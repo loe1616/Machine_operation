{
 "cells": [
  {
   "cell_type": "markdown",
   "metadata": {},
   "source": [
    "## Work\n",
    "1. 試改變 monitor \"Validation Accuracy\" 並比較結果\n",
    "2. 調整 earlystop 的等待次數至 10, 25 並比較結果"
   ]
  },
  {
   "cell_type": "code",
   "execution_count": 1,
   "metadata": {},
   "outputs": [],
   "source": [
    "import os\n",
    "from tensorflow import keras\n",
    "import matplotlib.pyplot as plt\n",
    "import itertools\n",
    "%matplotlib inline\n",
    "\n",
    "\n",
    "# Disable GPU\n",
    "os.environ[\"CUDA_VISIBLE_DEVICES\"] = \"\""
   ]
  },
  {
   "cell_type": "code",
   "execution_count": 2,
   "metadata": {},
   "outputs": [],
   "source": [
    "train, test = keras.datasets.cifar10.load_data()"
   ]
  },
  {
   "cell_type": "code",
   "execution_count": 3,
   "metadata": {},
   "outputs": [],
   "source": [
    "## 資料前處理\n",
    "def preproc_x(x, flatten=True):\n",
    "    x = x / 255.\n",
    "    if flatten:\n",
    "        x = x.reshape((len(x), -1))\n",
    "    return x\n",
    "\n",
    "def preproc_y(y, num_classes=10):\n",
    "    if y.shape[-1] == 1:\n",
    "        y = keras.utils.to_categorical(y, num_classes)\n",
    "    return y    "
   ]
  },
  {
   "cell_type": "code",
   "execution_count": 4,
   "metadata": {},
   "outputs": [],
   "source": [
    "x_train, y_train = train\n",
    "x_test, y_test = test\n",
    "\n",
    "# Preproc the inputs\n",
    "x_train = preproc_x(x_train)\n",
    "x_test = preproc_x(x_test)\n",
    "\n",
    "# Preprc the outputs\n",
    "y_train = preproc_y(y_train)\n",
    "y_test = preproc_y(y_test)"
   ]
  },
  {
   "cell_type": "code",
   "execution_count": 5,
   "metadata": {},
   "outputs": [],
   "source": [
    "from keras.layers import BatchNormalization\n",
    "\n",
    "def build_mlp(input_shape, output_units=10, num_neurons=[512, 256, 128]):\n",
    "    input_layer = keras.layers.Input(input_shape)\n",
    "    \n",
    "    for i, n_units in enumerate(num_neurons):\n",
    "        if i == 0:\n",
    "            x = keras.layers.Dense(units=n_units, \n",
    "                                   activation=\"relu\", \n",
    "                                   name=\"hidden_layer\"+str(i+1))(input_layer)\n",
    "            x = BatchNormalization()(x)\n",
    "        else:\n",
    "            x = keras.layers.Dense(units=n_units, \n",
    "                                   activation=\"relu\", \n",
    "                                   name=\"hidden_layer\"+str(i+1))(x)\n",
    "            x = BatchNormalization()(x)\n",
    "    \n",
    "    out = keras.layers.Dense(units=output_units, activation=\"softmax\", name=\"output\")(x)\n",
    "    \n",
    "    model = keras.models.Model(inputs=[input_layer], outputs=[out])\n",
    "    return model"
   ]
  },
  {
   "cell_type": "code",
   "execution_count": 6,
   "metadata": {},
   "outputs": [],
   "source": [
    "LEARNING_RATE = 1e-3\n",
    "EPOCHS = 50\n",
    "BATCH_SIZE = 1024\n",
    "MOMENTUM = 0.95\n",
    "EARLYSTOP = [10,25]"
   ]
  },
  {
   "cell_type": "code",
   "execution_count": 7,
   "metadata": {},
   "outputs": [
    {
     "name": "stdout",
     "output_type": "stream",
     "text": [
      "Model: \"model\"\n",
      "_________________________________________________________________\n",
      "Layer (type)                 Output Shape              Param #   \n",
      "=================================================================\n",
      "input_1 (InputLayer)         [(None, 3072)]            0         \n",
      "_________________________________________________________________\n",
      "hidden_layer1 (Dense)        (None, 512)               1573376   \n",
      "_________________________________________________________________\n",
      "tf.math.multiply (TFOpLambda (None, 512)               0         \n",
      "_________________________________________________________________\n",
      "tf.__operators__.add (TFOpLa (None, 512)               0         \n",
      "_________________________________________________________________\n",
      "hidden_layer2 (Dense)        (None, 256)               131328    \n",
      "_________________________________________________________________\n",
      "tf.math.multiply_1 (TFOpLamb (None, 256)               0         \n",
      "_________________________________________________________________\n",
      "tf.__operators__.add_1 (TFOp (None, 256)               0         \n",
      "_________________________________________________________________\n",
      "hidden_layer3 (Dense)        (None, 128)               32896     \n",
      "_________________________________________________________________\n",
      "tf.math.multiply_2 (TFOpLamb (None, 128)               0         \n",
      "_________________________________________________________________\n",
      "tf.__operators__.add_2 (TFOp (None, 128)               0         \n",
      "_________________________________________________________________\n",
      "output (Dense)               (None, 10)                1290      \n",
      "=================================================================\n",
      "Total params: 1,738,890\n",
      "Trainable params: 1,738,890\n",
      "Non-trainable params: 0\n",
      "_________________________________________________________________\n"
     ]
    },
    {
     "name": "stderr",
     "output_type": "stream",
     "text": [
      "C:\\Users\\loe_lin\\AppData\\Roaming\\Python\\Python37\\site-packages\\tensorflow\\python\\keras\\optimizer_v2\\optimizer_v2.py:375: UserWarning: The `lr` argument is deprecated, use `learning_rate` instead.\n",
      "  \"The `lr` argument is deprecated, use `learning_rate` instead.\")\n"
     ]
    },
    {
     "name": "stdout",
     "output_type": "stream",
     "text": [
      "Epoch 1/50\n",
      "49/49 [==============================] - 2s 34ms/step - loss: 2.2413 - accuracy: 0.1666 - val_loss: 2.1467 - val_accuracy: 0.2291\n",
      "Model: \"model_1\"\n",
      "_________________________________________________________________\n",
      "Layer (type)                 Output Shape              Param #   \n",
      "=================================================================\n",
      "input_2 (InputLayer)         [(None, 3072)]            0         \n",
      "_________________________________________________________________\n",
      "hidden_layer1 (Dense)        (None, 512)               1573376   \n",
      "_________________________________________________________________\n",
      "tf.math.multiply_3 (TFOpLamb (None, 512)               0         \n",
      "_________________________________________________________________\n",
      "tf.__operators__.add_3 (TFOp (None, 512)               0         \n",
      "_________________________________________________________________\n",
      "hidden_layer2 (Dense)        (None, 256)               131328    \n",
      "_________________________________________________________________\n",
      "tf.math.multiply_4 (TFOpLamb (None, 256)               0         \n",
      "_________________________________________________________________\n",
      "tf.__operators__.add_4 (TFOp (None, 256)               0         \n",
      "_________________________________________________________________\n",
      "hidden_layer3 (Dense)        (None, 128)               32896     \n",
      "_________________________________________________________________\n",
      "tf.math.multiply_5 (TFOpLamb (None, 128)               0         \n",
      "_________________________________________________________________\n",
      "tf.__operators__.add_5 (TFOp (None, 128)               0         \n",
      "_________________________________________________________________\n",
      "output (Dense)               (None, 10)                1290      \n",
      "=================================================================\n",
      "Total params: 1,738,890\n",
      "Trainable params: 1,738,890\n",
      "Non-trainable params: 0\n",
      "_________________________________________________________________\n",
      "Epoch 1/50\n",
      "49/49 [==============================] - 2s 37ms/step - loss: 2.2195 - accuracy: 0.1815 - val_loss: 2.1021 - val_accuracy: 0.2374\n",
      "Epoch 2/50\n",
      "49/49 [==============================] - 2s 33ms/step - loss: 2.0287 - accuracy: 0.2727 - val_loss: 1.9718 - val_accuracy: 0.2927\n",
      "Epoch 3/50\n",
      "49/49 [==============================] - 2s 33ms/step - loss: 1.9340 - accuracy: 0.3161 - val_loss: 1.9011 - val_accuracy: 0.3289\n",
      "Epoch 4/50\n",
      "49/49 [==============================] - 2s 31ms/step - loss: 1.8750 - accuracy: 0.3425 - val_loss: 1.8528 - val_accuracy: 0.3533\n",
      "Epoch 5/50\n",
      "49/49 [==============================] - 2s 31ms/step - loss: 1.8330 - accuracy: 0.3579 - val_loss: 1.8167 - val_accuracy: 0.3665\n",
      "Epoch 6/50\n",
      "49/49 [==============================] - 2s 31ms/step - loss: 1.8013 - accuracy: 0.3708 - val_loss: 1.7884 - val_accuracy: 0.3753\n",
      "Epoch 7/50\n",
      "49/49 [==============================] - 2s 32ms/step - loss: 1.7747 - accuracy: 0.3809 - val_loss: 1.7653 - val_accuracy: 0.3862\n",
      "Epoch 8/50\n",
      "49/49 [==============================] - 2s 33ms/step - loss: 1.7519 - accuracy: 0.3876 - val_loss: 1.7428 - val_accuracy: 0.3927\n",
      "Epoch 9/50\n",
      "49/49 [==============================] - 2s 32ms/step - loss: 1.7315 - accuracy: 0.3952 - val_loss: 1.7239 - val_accuracy: 0.3995\n",
      "Epoch 10/50\n",
      "49/49 [==============================] - 2s 38ms/step - loss: 1.7131 - accuracy: 0.4035 - val_loss: 1.7067 - val_accuracy: 0.4070\n",
      "Epoch 11/50\n",
      "49/49 [==============================] - 2s 37ms/step - loss: 1.6964 - accuracy: 0.4091 - val_loss: 1.6907 - val_accuracy: 0.4106\n",
      "Epoch 12/50\n",
      "49/49 [==============================] - 2s 34ms/step - loss: 1.6797 - accuracy: 0.4137 - val_loss: 1.6741 - val_accuracy: 0.4171\n",
      "Epoch 13/50\n",
      "49/49 [==============================] - 1s 30ms/step - loss: 1.6645 - accuracy: 0.4193 - val_loss: 1.6605 - val_accuracy: 0.4176\n",
      "Epoch 14/50\n",
      "49/49 [==============================] - 2s 31ms/step - loss: 1.6494 - accuracy: 0.4249 - val_loss: 1.6481 - val_accuracy: 0.4213\n",
      "Epoch 15/50\n",
      "49/49 [==============================] - 2s 33ms/step - loss: 1.6355 - accuracy: 0.4283 - val_loss: 1.6344 - val_accuracy: 0.4288\n",
      "Epoch 16/50\n",
      "49/49 [==============================] - 2s 33ms/step - loss: 1.6219 - accuracy: 0.4343 - val_loss: 1.6231 - val_accuracy: 0.4288\n",
      "Epoch 00016: early stopping\n"
     ]
    }
   ],
   "source": [
    "from keras.callbacks import EarlyStopping\n",
    "\n",
    "results = {}\n",
    "for i, Earlystop in enumerate(itertools.product(EARLYSTOP)):\n",
    "    earlystop = EarlyStopping(monitor=\"val_accuracy\", \n",
    "                          patience=i, \n",
    "                          verbose=1\n",
    "                          )\n",
    "    model = build_mlp(input_shape=x_train.shape[1:])\n",
    "    model.summary()\n",
    "    optimizer = keras.optimizers.SGD(lr=LEARNING_RATE, nesterov=True, momentum=MOMENTUM)\n",
    "    model.compile(loss=\"categorical_crossentropy\", metrics=[\"accuracy\"], optimizer=optimizer)\n",
    "\n",
    "    model.fit(x_train, y_train, \n",
    "              epochs=EPOCHS, \n",
    "              batch_size=BATCH_SIZE, \n",
    "              validation_data=(x_test, y_test), \n",
    "              shuffle=True,\n",
    "              callbacks=[earlystop]\n",
    "             )\n",
    "\n",
    "    # Collect results\n",
    "    train_loss = model.history.history[\"loss\"]\n",
    "    valid_loss = model.history.history[\"val_loss\"]\n",
    "    train_acc = model.history.history[\"accuracy\"]\n",
    "    valid_acc = model.history.history[\"val_accuracy\"]"
   ]
  },
  {
   "cell_type": "code",
   "execution_count": 8,
   "metadata": {},
   "outputs": [
    {
     "name": "stderr",
     "output_type": "stream",
     "text": [
      "No handles with labels found to put in legend.\n"
     ]
    },
    {
     "data": {
      "image/png": "[encoded data removed]",
      "text/plain": [
       "<Figure size 576x432 with 1 Axes>"
      ]
     },
     "metadata": {
      "needs_background": "light"
     },
     "output_type": "display_data"
    },
    {
     "name": "stderr",
     "output_type": "stream",
     "text": [
      "No handles with labels found to put in legend.\n"
     ]
    },
    {
     "data": {
      "image/png": "[encoded data removed]",
      "text/plain": [
       "<Figure size 576x432 with 1 Axes>"
      ]
     },
     "metadata": {
      "needs_background": "light"
     },
     "output_type": "display_data"
    }
   ],
   "source": [
    "import matplotlib.pyplot as plt\n",
    "%matplotlib inline\n",
    "color_bar = [\"r\", \"g\", \"b\", \"y\", \"m\", \"k\"]\n",
    "\n",
    "plt.figure(figsize=(8,6))\n",
    "for i, cond in enumerate(results.keys()):\n",
    "    plt.plot(range(len(results[cond]['train-loss'])),results[cond]['train-loss'], '-', label=cond, color=color_bar[i])\n",
    "    plt.plot(range(len(results[cond]['valid-loss'])),results[cond]['valid-loss'], '--', label=cond, color=color_bar[i])\n",
    "plt.title(\"Loss\")\n",
    "plt.legend()\n",
    "plt.show()\n",
    "\n",
    "plt.figure(figsize=(8,6))\n",
    "for i, cond in enumerate(results.keys()):\n",
    "    plt.plot(range(len(results[cond]['train-acc'])),results[cond]['train-acc'], '-', label=cond, color=color_bar[i])\n",
    "    plt.plot(range(len(results[cond]['valid-acc'])),results[cond]['valid-acc'], '--', label=cond, color=color_bar[i])\n",
    "plt.title(\"Accuracy\")\n",
    "plt.legend()\n",
    "plt.show()"
   ]
  }
 ],
 "metadata": {
  "kernelspec": {
   "display_name": "Python 3",
   "language": "python",
   "name": "python3"
  },
  "language_info": {
   "codemirror_mode": {
    "name": "ipython",
    "version": 3
   },
   "file_extension": ".py",
   "mimetype": "text/x-python",
   "name": "python",
   "nbconvert_exporter": "python",
   "pygments_lexer": "ipython3",
   "version": "3.7.3"
  }
 },
 "nbformat": 4,
 "nbformat_minor": 2
}
