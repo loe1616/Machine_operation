{
 "cells": [
  {
   "cell_type": "markdown",
   "metadata": {},
   "source": [
    "## Work\n",
    "1. 試比較 save_best_only 與否的差異\n",
    "2. 請僅存入將 save_weights_only 設定為 True, 並嘗試 reset ipynb 並將模型與權重重新建回並預測 x_test"
   ]
  },
  {
   "cell_type": "code",
   "execution_count": 1,
   "metadata": {},
   "outputs": [],
   "source": [
    "import os\n",
    "from tensorflow import keras\n",
    "\n",
    "# Disable GPU\n",
    "os.environ[\"CUDA_VISIBLE_DEVICES\"] = \"\""
   ]
  },
  {
   "cell_type": "code",
   "execution_count": 2,
   "metadata": {},
   "outputs": [],
   "source": [
    "train, test = keras.datasets.cifar10.load_data()"
   ]
  },
  {
   "cell_type": "code",
   "execution_count": 3,
   "metadata": {},
   "outputs": [],
   "source": [
    "## 資料前處理\n",
    "def preproc_x(x, flatten=True):\n",
    "    x = x / 255.\n",
    "    if flatten:\n",
    "        x = x.reshape((len(x), -1))\n",
    "    return x\n",
    "\n",
    "def preproc_y(y, num_classes=10):\n",
    "    if y.shape[-1] == 1:\n",
    "        y = keras.utils.to_categorical(y, num_classes)\n",
    "    return y    "
   ]
  },
  {
   "cell_type": "code",
   "execution_count": 4,
   "metadata": {},
   "outputs": [],
   "source": [
    "x_train, y_train = train\n",
    "x_test, y_test = test\n",
    "\n",
    "# Preproc the inputs\n",
    "x_train = preproc_x(x_train)\n",
    "x_test = preproc_x(x_test)\n",
    "\n",
    "# Preprc the outputs\n",
    "y_train = preproc_y(y_train)\n",
    "y_test = preproc_y(y_test)"
   ]
  },
  {
   "cell_type": "code",
   "execution_count": 5,
   "metadata": {},
   "outputs": [],
   "source": [
    "from keras.layers import BatchNormalization\n",
    "\n",
    "def build_mlp(input_shape, output_units=10, num_neurons=[512, 256, 128]):\n",
    "    input_layer = keras.layers.Input(input_shape)\n",
    "    \n",
    "    for i, n_units in enumerate(num_neurons):\n",
    "        if i == 0:\n",
    "            x = keras.layers.Dense(units=n_units, \n",
    "                                   activation=\"relu\", \n",
    "                                   name=\"hidden_layer\"+str(i+1))(input_layer)\n",
    "            x = BatchNormalization()(x)\n",
    "        else:\n",
    "            x = keras.layers.Dense(units=n_units, \n",
    "                                   activation=\"relu\", \n",
    "                                   name=\"hidden_layer\"+str(i+1))(x)\n",
    "            x = BatchNormalization()(x)\n",
    "    \n",
    "    out = keras.layers.Dense(units=output_units, activation=\"softmax\", name=\"output\")(x)\n",
    "    \n",
    "    model = keras.models.Model(inputs=[input_layer], outputs=[out])\n",
    "    return model"
   ]
  },
  {
   "cell_type": "code",
   "execution_count": 6,
   "metadata": {},
   "outputs": [],
   "source": [
    "LEARNING_RATE = 1e-3\n",
    "EPOCHS = 50\n",
    "BATCH_SIZE = 1024\n",
    "MOMENTUM = 0.95"
   ]
  },
  {
   "cell_type": "code",
   "execution_count": 7,
   "metadata": {},
   "outputs": [
    {
     "name": "stdout",
     "output_type": "stream",
     "text": [
      "Model: \"model\"\n",
      "_________________________________________________________________\n",
      "Layer (type)                 Output Shape              Param #   \n",
      "=================================================================\n",
      "input_1 (InputLayer)         [(None, 3072)]            0         \n",
      "_________________________________________________________________\n",
      "hidden_layer1 (Dense)        (None, 512)               1573376   \n",
      "_________________________________________________________________\n",
      "tf.math.multiply (TFOpLambda (None, 512)               0         \n",
      "_________________________________________________________________\n",
      "tf.__operators__.add (TFOpLa (None, 512)               0         \n",
      "_________________________________________________________________\n",
      "hidden_layer2 (Dense)        (None, 256)               131328    \n",
      "_________________________________________________________________\n",
      "tf.math.multiply_1 (TFOpLamb (None, 256)               0         \n",
      "_________________________________________________________________\n",
      "tf.__operators__.add_1 (TFOp (None, 256)               0         \n",
      "_________________________________________________________________\n",
      "hidden_layer3 (Dense)        (None, 128)               32896     \n",
      "_________________________________________________________________\n",
      "tf.math.multiply_2 (TFOpLamb (None, 128)               0         \n",
      "_________________________________________________________________\n",
      "tf.__operators__.add_2 (TFOp (None, 128)               0         \n",
      "_________________________________________________________________\n",
      "output (Dense)               (None, 10)                1290      \n",
      "=================================================================\n",
      "Total params: 1,738,890\n",
      "Trainable params: 1,738,890\n",
      "Non-trainable params: 0\n",
      "_________________________________________________________________\n"
     ]
    },
    {
     "name": "stderr",
     "output_type": "stream",
     "text": [
      "C:\\Users\\loe_lin\\AppData\\Roaming\\Python\\Python37\\site-packages\\tensorflow\\python\\keras\\optimizer_v2\\optimizer_v2.py:375: UserWarning: The `lr` argument is deprecated, use `learning_rate` instead.\n",
      "  \"The `lr` argument is deprecated, use `learning_rate` instead.\")\n"
     ]
    },
    {
     "name": "stdout",
     "output_type": "stream",
     "text": [
      "Epoch 1/50\n",
      "49/49 [==============================] - 2s 41ms/step - loss: 2.2229 - accuracy: 0.1797 - val_loss: 2.1143 - val_accuracy: 0.2504\n",
      "Epoch 2/50\n",
      "49/49 [==============================] - 2s 38ms/step - loss: 2.0334 - accuracy: 0.2825 - val_loss: 1.9722 - val_accuracy: 0.3025\n",
      "Epoch 3/50\n",
      "49/49 [==============================] - 2s 39ms/step - loss: 1.9308 - accuracy: 0.3190 - val_loss: 1.8986 - val_accuracy: 0.3339\n",
      "Epoch 4/50\n",
      "49/49 [==============================] - 2s 36ms/step - loss: 1.8725 - accuracy: 0.3451 - val_loss: 1.8528 - val_accuracy: 0.3513\n",
      "Epoch 5/50\n",
      "49/49 [==============================] - 2s 41ms/step - loss: 1.8330 - accuracy: 0.3593 - val_loss: 1.8191 - val_accuracy: 0.3617\n",
      "Epoch 6/50\n",
      "49/49 [==============================] - 2s 45ms/step - loss: 1.8023 - accuracy: 0.3693 - val_loss: 1.7931 - val_accuracy: 0.3721\n",
      "Epoch 7/50\n",
      "49/49 [==============================] - 2s 45ms/step - loss: 1.7772 - accuracy: 0.3781 - val_loss: 1.7691 - val_accuracy: 0.3850\n",
      "Epoch 8/50\n",
      "49/49 [==============================] - 2s 36ms/step - loss: 1.7551 - accuracy: 0.3860 - val_loss: 1.7495 - val_accuracy: 0.3857\n",
      "Epoch 9/50\n",
      "49/49 [==============================] - 2s 37ms/step - loss: 1.7350 - accuracy: 0.3922 - val_loss: 1.7276 - val_accuracy: 0.3997\n",
      "Epoch 10/50\n",
      "49/49 [==============================] - 2s 37ms/step - loss: 1.7163 - accuracy: 0.3999 - val_loss: 1.7098 - val_accuracy: 0.4035\n",
      "Epoch 11/50\n",
      "49/49 [==============================] - 2s 34ms/step - loss: 1.6995 - accuracy: 0.4069 - val_loss: 1.6946 - val_accuracy: 0.4085\n",
      "Epoch 12/50\n",
      "49/49 [==============================] - 2s 37ms/step - loss: 1.6840 - accuracy: 0.4115 - val_loss: 1.6794 - val_accuracy: 0.4160\n",
      "Epoch 13/50\n",
      "49/49 [==============================] - 2s 39ms/step - loss: 1.6683 - accuracy: 0.4173 - val_loss: 1.6697 - val_accuracy: 0.4187\n",
      "Epoch 14/50\n",
      "49/49 [==============================] - 2s 37ms/step - loss: 1.6551 - accuracy: 0.4226 - val_loss: 1.6528 - val_accuracy: 0.4238\n",
      "Epoch 15/50\n",
      "49/49 [==============================] - 2s 36ms/step - loss: 1.6408 - accuracy: 0.4268 - val_loss: 1.6440 - val_accuracy: 0.4240\n",
      "Epoch 16/50\n",
      "49/49 [==============================] - 2s 40ms/step - loss: 1.6286 - accuracy: 0.4312 - val_loss: 1.6281 - val_accuracy: 0.4324\n",
      "Epoch 17/50\n",
      "49/49 [==============================] - 2s 42ms/step - loss: 1.6160 - accuracy: 0.4367 - val_loss: 1.6179 - val_accuracy: 0.4348\n",
      "Epoch 18/50\n",
      "49/49 [==============================] - 2s 40ms/step - loss: 1.6041 - accuracy: 0.4406 - val_loss: 1.6067 - val_accuracy: 0.4388\n",
      "Epoch 19/50\n",
      "49/49 [==============================] - 2s 39ms/step - loss: 1.5923 - accuracy: 0.4454 - val_loss: 1.5963 - val_accuracy: 0.4418\n",
      "Epoch 20/50\n",
      "49/49 [==============================] - 2s 39ms/step - loss: 1.5813 - accuracy: 0.4486 - val_loss: 1.5889 - val_accuracy: 0.4424\n",
      "Epoch 21/50\n",
      "49/49 [==============================] - 2s 40ms/step - loss: 1.5709 - accuracy: 0.4524 - val_loss: 1.5777 - val_accuracy: 0.4494\n",
      "Epoch 22/50\n",
      "49/49 [==============================] - 2s 40ms/step - loss: 1.5605 - accuracy: 0.4565 - val_loss: 1.5713 - val_accuracy: 0.4494\n",
      "Epoch 23/50\n",
      "49/49 [==============================] - 2s 38ms/step - loss: 1.5508 - accuracy: 0.4588 - val_loss: 1.5685 - val_accuracy: 0.4519\n",
      "Epoch 24/50\n",
      "49/49 [==============================] - 2s 38ms/step - loss: 1.5420 - accuracy: 0.4610 - val_loss: 1.5583 - val_accuracy: 0.4581\n",
      "Epoch 25/50\n",
      "49/49 [==============================] - 2s 37ms/step - loss: 1.5328 - accuracy: 0.4652 - val_loss: 1.5479 - val_accuracy: 0.4590\n",
      "Epoch 26/50\n",
      "49/49 [==============================] - 2s 39ms/step - loss: 1.5242 - accuracy: 0.4691 - val_loss: 1.5415 - val_accuracy: 0.4589\n",
      "Epoch 27/50\n",
      "49/49 [==============================] - 2s 41ms/step - loss: 1.5158 - accuracy: 0.4719 - val_loss: 1.5367 - val_accuracy: 0.4608\n",
      "Epoch 28/50\n",
      "49/49 [==============================] - 2s 38ms/step - loss: 1.5079 - accuracy: 0.4746 - val_loss: 1.5279 - val_accuracy: 0.4607\n",
      "Epoch 29/50\n",
      "49/49 [==============================] - 2s 36ms/step - loss: 1.4991 - accuracy: 0.4782 - val_loss: 1.5209 - val_accuracy: 0.4674\n",
      "Epoch 30/50\n",
      "49/49 [==============================] - 2s 43ms/step - loss: 1.4909 - accuracy: 0.4815 - val_loss: 1.5158 - val_accuracy: 0.4676\n",
      "Epoch 31/50\n",
      "49/49 [==============================] - 2s 41ms/step - loss: 1.4843 - accuracy: 0.4836 - val_loss: 1.5096 - val_accuracy: 0.4683\n",
      "Epoch 32/50\n",
      "49/49 [==============================] - 2s 38ms/step - loss: 1.4761 - accuracy: 0.4866 - val_loss: 1.5045 - val_accuracy: 0.4704\n",
      "Epoch 33/50\n",
      "49/49 [==============================] - 2s 42ms/step - loss: 1.4690 - accuracy: 0.4884 - val_loss: 1.5000 - val_accuracy: 0.4712\n",
      "Epoch 34/50\n",
      "49/49 [==============================] - 2s 37ms/step - loss: 1.4617 - accuracy: 0.4911 - val_loss: 1.4947 - val_accuracy: 0.4733\n",
      "Epoch 35/50\n",
      "49/49 [==============================] - 2s 38ms/step - loss: 1.4538 - accuracy: 0.4934 - val_loss: 1.4875 - val_accuracy: 0.4788\n",
      "Epoch 36/50\n",
      "49/49 [==============================] - 2s 42ms/step - loss: 1.4473 - accuracy: 0.4958 - val_loss: 1.4846 - val_accuracy: 0.4762\n",
      "Epoch 37/50\n",
      "49/49 [==============================] - 2s 45ms/step - loss: 1.4403 - accuracy: 0.4983 - val_loss: 1.4805 - val_accuracy: 0.4801\n",
      "Epoch 38/50\n",
      "49/49 [==============================] - 2s 44ms/step - loss: 1.4326 - accuracy: 0.5009 - val_loss: 1.4737 - val_accuracy: 0.4808\n",
      "Epoch 39/50\n",
      "49/49 [==============================] - 2s 39ms/step - loss: 1.4258 - accuracy: 0.5017 - val_loss: 1.4674 - val_accuracy: 0.4848\n",
      "Epoch 40/50\n",
      "49/49 [==============================] - 2s 40ms/step - loss: 1.4196 - accuracy: 0.5059 - val_loss: 1.4658 - val_accuracy: 0.4834\n",
      "Epoch 41/50\n",
      "49/49 [==============================] - 2s 38ms/step - loss: 1.4124 - accuracy: 0.5088 - val_loss: 1.4642 - val_accuracy: 0.4840\n",
      "Epoch 42/50\n",
      "49/49 [==============================] - 2s 39ms/step - loss: 1.4057 - accuracy: 0.5091 - val_loss: 1.4547 - val_accuracy: 0.4869\n",
      "Epoch 43/50\n",
      "49/49 [==============================] - 2s 38ms/step - loss: 1.3994 - accuracy: 0.5117 - val_loss: 1.4501 - val_accuracy: 0.4881\n",
      "Epoch 44/50\n",
      "49/49 [==============================] - 2s 39ms/step - loss: 1.3929 - accuracy: 0.5150 - val_loss: 1.4461 - val_accuracy: 0.4898\n",
      "Epoch 45/50\n",
      "49/49 [==============================] - 2s 39ms/step - loss: 1.3864 - accuracy: 0.5176 - val_loss: 1.4449 - val_accuracy: 0.4904\n",
      "Epoch 46/50\n",
      "49/49 [==============================] - 2s 41ms/step - loss: 1.3799 - accuracy: 0.5196 - val_loss: 1.4374 - val_accuracy: 0.4929\n",
      "Epoch 47/50\n",
      "49/49 [==============================] - 2s 38ms/step - loss: 1.3733 - accuracy: 0.5215 - val_loss: 1.4360 - val_accuracy: 0.4918\n",
      "Epoch 48/50\n",
      "49/49 [==============================] - 2s 38ms/step - loss: 1.3674 - accuracy: 0.5235 - val_loss: 1.4327 - val_accuracy: 0.4938\n",
      "Epoch 49/50\n",
      "49/49 [==============================] - 2s 39ms/step - loss: 1.3611 - accuracy: 0.5270 - val_loss: 1.4278 - val_accuracy: 0.4919\n",
      "Epoch 50/50\n",
      "49/49 [==============================] - 2s 43ms/step - loss: 1.3552 - accuracy: 0.5290 - val_loss: 1.4252 - val_accuracy: 0.4940\n"
     ]
    }
   ],
   "source": [
    "from keras.callbacks import ModelCheckpoint\n",
    "\n",
    "model_ckpt = ModelCheckpoint(filepath=\"C:/Users/loe_lin/Desktop/Machine learning/Day086/tmp.h5\", \n",
    "                             monitor=\"val_loss\", \n",
    "                             save_best_only=True)\n",
    "\n",
    "model = build_mlp(input_shape=x_train.shape[1:])\n",
    "model.summary()\n",
    "optimizer = keras.optimizers.SGD(lr=LEARNING_RATE, nesterov=True, momentum=MOMENTUM)\n",
    "model.compile(loss=\"categorical_crossentropy\", metrics=[\"accuracy\"], optimizer=optimizer)\n",
    "\n",
    "model.fit(x_train, y_train, \n",
    "          epochs=EPOCHS, \n",
    "          batch_size=BATCH_SIZE, \n",
    "          validation_data=(x_test, y_test), \n",
    "          shuffle=True,\n",
    "          callbacks=[model_ckpt]\n",
    "         )\n",
    "model.save(\"final_model.h5\")\n",
    "model.save_weights(\"model_weights.h5\")\n",
    "# Collect results\n",
    "train_loss = model.history.history[\"loss\"]\n",
    "valid_loss = model.history.history[\"val_loss\"]\n",
    "train_acc = model.history.history[\"accuracy\"]\n",
    "valid_acc = model.history.history[\"val_accuracy\"]\n",
    "\n",
    "pred_final = model.predict(x_test)\n",
    "# Load back\n",
    "model = keras.models.load_model(\"C:/Users/loe_lin/Desktop/Machine learning/Day086/tmp.h5\")\n",
    "pred_loadback = model.predict(x_test)"
   ]
  },
  {
   "cell_type": "code",
   "execution_count": 8,
   "metadata": {
    "scrolled": true
   },
   "outputs": [
    {
     "data": {
      "image/png": "[encoded data removed]",
      "text/plain": [
       "<Figure size 432x288 with 1 Axes>"
      ]
     },
     "metadata": {
      "needs_background": "light"
     },
     "output_type": "display_data"
    },
    {
     "data": {
      "image/png": "[encoded data removed]",
      "text/plain": [
       "<Figure size 432x288 with 1 Axes>"
      ]
     },
     "metadata": {
      "needs_background": "light"
     },
     "output_type": "display_data"
    }
   ],
   "source": [
    "import matplotlib.pyplot as plt\n",
    "%matplotlib inline\n",
    "\n",
    "plt.plot(range(len(train_loss)), train_loss, label=\"train loss\")\n",
    "plt.plot(range(len(valid_loss)), valid_loss, label=\"valid loss\")\n",
    "plt.legend()\n",
    "plt.title(\"Loss\")\n",
    "plt.show()\n",
    "\n",
    "plt.plot(range(len(train_acc)), train_acc, label=\"train accuracy\")\n",
    "plt.plot(range(len(valid_acc)), valid_acc, label=\"valid accuracy\")\n",
    "plt.legend()\n",
    "plt.title(\"Accuracy\")\n",
    "plt.show()"
   ]
  },
  {
   "cell_type": "code",
   "execution_count": 9,
   "metadata": {},
   "outputs": [
    {
     "name": "stdout",
     "output_type": "stream",
     "text": [
      "Accuracy of final weights: 0.494\n",
      "Accuracy of best weights: 0.494\n"
     ]
    }
   ],
   "source": [
    "from sklearn.metrics import accuracy_score\n",
    "\n",
    "final_model_acc = accuracy_score(y_true=y_test.argmax(axis=-1), y_pred=pred_final.argmax(axis=-1))\n",
    "loadback_acc = accuracy_score(y_true=y_test.argmax(axis=-1), y_pred=pred_loadback.argmax(axis=-1))\n",
    "\n",
    "print(\"Accuracy of final weights: %.3f\" % final_model_acc)\n",
    "print(\"Accuracy of best weights: %.3f\" % loadback_acc)"
   ]
  },
  {
   "cell_type": "code",
   "execution_count": 10,
   "metadata": {},
   "outputs": [
    {
     "name": "stdout",
     "output_type": "stream",
     "text": [
      "Accuracy of best weights: 0.107\n",
      "Accuracy of best weights: 0.494\n"
     ]
    }
   ],
   "source": [
    "new_model = build_mlp(input_shape=x_train.shape[1:])\n",
    "new_model_pred = new_model.predict(x_test)\n",
    "new_model_acc = accuracy_score(y_true=y_test.argmax(axis=-1), y_pred=new_model_pred.argmax(axis=-1))\n",
    "print(\"Accuracy of best weights: %.3f\" % new_model_acc)\n",
    "\n",
    "new_model.load_weights(\"C:/Users/loe_lin/Desktop/Machine learning/Day086/model_weights.h5\")\n",
    "new_model_pred = new_model.predict(x_test)\n",
    "new_model_loadback_acc = accuracy_score(y_true=y_test.argmax(axis=-1), y_pred=new_model_pred.argmax(axis=-1))\n",
    "print(\"Accuracy of best weights: %.3f\" % new_model_loadback_acc)"
   ]
  }
 ],
 "metadata": {
  "kernelspec": {
   "display_name": "Python 3",
   "language": "python",
   "name": "python3"
  },
  "language_info": {
   "codemirror_mode": {
    "name": "ipython",
    "version": 3
   },
   "file_extension": ".py",
   "mimetype": "text/x-python",
   "name": "python",
   "nbconvert_exporter": "python",
   "pygments_lexer": "ipython3",
   "version": "3.7.3"
  }
 },
 "nbformat": 4,
 "nbformat_minor": 2
}
