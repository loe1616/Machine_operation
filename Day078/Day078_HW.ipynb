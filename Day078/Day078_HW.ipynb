{
 "cells": [
  {
   "cell_type": "markdown",
   "metadata": {},
   "source": [
    "## Work\n",
    "1. 請嘗試將 preproc_x 替換成以每筆資料的 min/max 進行標準化至 -1 ~ 1 間，再進行訓練\n",
    "2. 請嘗試將 mlp 疊更深 (e.g 5~10 層)，進行訓練後觀察 learning curve 的走勢\n",
    "3. (optional) 請改用 GPU 進行訓練 (如果你有 GPU 的話)，比較使用 CPU 與 GPU 的訓練速度"
   ]
  },
  {
   "cell_type": "code",
   "execution_count": 1,
   "metadata": {},
   "outputs": [
    {
     "name": "stderr",
     "output_type": "stream",
     "text": [
      "'nvidia-smi' 不是內部或外部命令、可執行的程式或批次檔。\n"
     ]
    }
   ],
   "source": [
    "## \n",
    "\"\"\"\n",
    "Your code here (optional)\n",
    "確認硬體資源\n",
    "\"\"\"\n",
    "!nvidia-smi"
   ]
  },
  {
   "cell_type": "code",
   "execution_count": 2,
   "metadata": {},
   "outputs": [],
   "source": [
    "import os\n",
    "from tensorflow import keras\n",
    "\n",
    "# 請嘗試設定 GPU：os.environ\n",
    "os.environ[\"CUDA_VISIBLE_DEVICES\"] = \"0\""
   ]
  },
  {
   "cell_type": "code",
   "execution_count": 3,
   "metadata": {},
   "outputs": [],
   "source": [
    "train, test = keras.datasets.cifar10.load_data()"
   ]
  },
  {
   "cell_type": "code",
   "execution_count": 4,
   "metadata": {},
   "outputs": [],
   "source": [
    "## 資料前處理\n",
    "\"\"\"\n",
    "Your code here\n",
    "\"\"\"\n",
    "def preproc_x(x, flatten=True):\n",
    "    x = 2*((x - x.min()) / (x.max() - x.min())-0.5)\n",
    "    if flatten:\n",
    "        x = x.reshape((len(x), -1))\n",
    "    return x\n",
    "def preproc_y(y, num_classes=10):\n",
    "    if y.shape[-1] == 1:\n",
    "        y = keras.utils.to_categorical(y,num_classes)\n",
    "    return y"
   ]
  },
  {
   "cell_type": "code",
   "execution_count": 5,
   "metadata": {},
   "outputs": [],
   "source": [
    "x_train, y_train = train\n",
    "x_test, y_test = test\n",
    "\n",
    "# Preproc the inputs\n",
    "x_train = preproc_x(x_train)\n",
    "x_test = preproc_x(x_test)\n",
    "\n",
    "# Preprc the outputs\n",
    "y_train = preproc_y(y_train)\n",
    "y_test = preproc_y(y_test)"
   ]
  },
  {
   "cell_type": "code",
   "execution_count": 6,
   "metadata": {},
   "outputs": [
    {
     "name": "stdout",
     "output_type": "stream",
     "text": [
      "Model: \"model\"\n",
      "_________________________________________________________________\n",
      "Layer (type)                 Output Shape              Param #   \n",
      "=================================================================\n",
      "input_1 (InputLayer)         [(None, 3072)]            0         \n",
      "_________________________________________________________________\n",
      "hidden_layer1 (Dense)        (None, 512)               1573376   \n",
      "_________________________________________________________________\n",
      "hidden_layer2 (Dense)        (None, 256)               131328    \n",
      "_________________________________________________________________\n",
      "hidden_layer3 (Dense)        (None, 128)               32896     \n",
      "_________________________________________________________________\n",
      "hidden_layer4 (Dense)        (None, 128)               16512     \n",
      "_________________________________________________________________\n",
      "hidden_layer5 (Dense)        (None, 128)               16512     \n",
      "_________________________________________________________________\n",
      "output (Dense)               (None, 10)                1290      \n",
      "=================================================================\n",
      "Total params: 1,771,914\n",
      "Trainable params: 1,771,914\n",
      "Non-trainable params: 0\n",
      "_________________________________________________________________\n"
     ]
    }
   ],
   "source": [
    "\"\"\"Code Here\n",
    "建立你的神經網路\n",
    "\"\"\"\n",
    "def build_mlp(input_shape,output_units=10,num_neurons=[512,256,128,128,128]):\n",
    "    input_layer = keras.layers.Input(input_shape)\n",
    "    for i,n_units in enumerate(num_neurons):\n",
    "        if i == 0:\n",
    "            x = keras.layers.Dense(units=n_units,activation=\"relu\",name=\"hidden_layer\"+str(i+1))(input_layer)\n",
    "        else:\n",
    "            x = keras.layers.Dense(units=n_units,activation=\"relu\",name=\"hidden_layer\"+str(i+1))(x)\n",
    "    \n",
    "    out = keras.layers.Dense(units=output_units,activation=\"softmax\",name=\"output\")(x)\n",
    "    \n",
    "    model = keras.models.Model(inputs=[input_layer],outputs=[out])\n",
    "    \n",
    "    return model\n",
    "\n",
    "model = build_mlp(input_shape=x_train.shape[1:])\n",
    "model.summary()"
   ]
  },
  {
   "cell_type": "code",
   "execution_count": 7,
   "metadata": {},
   "outputs": [],
   "source": [
    "## 超參數設定\n",
    "LEARNING_RATE = 0.001\n",
    "EPOCHS = 100\n",
    "BATCH_SIZE = 256"
   ]
  },
  {
   "cell_type": "code",
   "execution_count": 8,
   "metadata": {},
   "outputs": [
    {
     "name": "stderr",
     "output_type": "stream",
     "text": [
      "C:\\Users\\loe_lin\\AppData\\Roaming\\Python\\Python37\\site-packages\\tensorflow\\python\\keras\\optimizer_v2\\optimizer_v2.py:375: UserWarning: The `lr` argument is deprecated, use `learning_rate` instead.\n",
      "  \"The `lr` argument is deprecated, use `learning_rate` instead.\")\n"
     ]
    }
   ],
   "source": [
    "optimizer = keras.optimizers.Adam(lr=LEARNING_RATE)\n",
    "model.compile(loss=\"categorical_crossentropy\", metrics=[\"accuracy\"], optimizer=optimizer)"
   ]
  },
  {
   "cell_type": "code",
   "execution_count": 9,
   "metadata": {},
   "outputs": [
    {
     "name": "stdout",
     "output_type": "stream",
     "text": [
      "Epoch 1/100\n",
      "196/196 [==============================] - 4s 16ms/step - loss: 1.6807 - accuracy: 0.4002 - val_loss: 1.5482 - val_accuracy: 0.4545\n",
      "Epoch 2/100\n",
      "196/196 [==============================] - 3s 14ms/step - loss: 1.4669 - accuracy: 0.4814 - val_loss: 1.4348 - val_accuracy: 0.4965\n",
      "Epoch 3/100\n",
      "196/196 [==============================] - 3s 14ms/step - loss: 1.3421 - accuracy: 0.5245 - val_loss: 1.4277 - val_accuracy: 0.4848\n",
      "Epoch 4/100\n",
      "196/196 [==============================] - 3s 14ms/step - loss: 1.2577 - accuracy: 0.5567 - val_loss: 1.3625 - val_accuracy: 0.5223\n",
      "Epoch 5/100\n",
      "196/196 [==============================] - 3s 15ms/step - loss: 1.1695 - accuracy: 0.5834 - val_loss: 1.3547 - val_accuracy: 0.5234\n",
      "Epoch 6/100\n",
      "196/196 [==============================] - 3s 14ms/step - loss: 1.0980 - accuracy: 0.6110 - val_loss: 1.3419 - val_accuracy: 0.5307\n",
      "Epoch 7/100\n",
      "196/196 [==============================] - 3s 16ms/step - loss: 1.0185 - accuracy: 0.6370 - val_loss: 1.3740 - val_accuracy: 0.5282\n",
      "Epoch 8/100\n",
      "196/196 [==============================] - 3s 16ms/step - loss: 0.9502 - accuracy: 0.6608 - val_loss: 1.4332 - val_accuracy: 0.5206\n",
      "Epoch 9/100\n",
      "196/196 [==============================] - 3s 16ms/step - loss: 0.8807 - accuracy: 0.6845 - val_loss: 1.4619 - val_accuracy: 0.5299\n",
      "Epoch 10/100\n",
      "196/196 [==============================] - 3s 16ms/step - loss: 0.8082 - accuracy: 0.7126 - val_loss: 1.4538 - val_accuracy: 0.5330\n",
      "Epoch 11/100\n",
      "196/196 [==============================] - 3s 16ms/step - loss: 0.7471 - accuracy: 0.7342 - val_loss: 1.5358 - val_accuracy: 0.5338\n",
      "Epoch 12/100\n",
      "196/196 [==============================] - 4s 18ms/step - loss: 0.6799 - accuracy: 0.7564 - val_loss: 1.5949 - val_accuracy: 0.5276\n",
      "Epoch 13/100\n",
      "196/196 [==============================] - 3s 17ms/step - loss: 0.6299 - accuracy: 0.7745 - val_loss: 1.6849 - val_accuracy: 0.5333\n",
      "Epoch 14/100\n",
      "196/196 [==============================] - 3s 17ms/step - loss: 0.5655 - accuracy: 0.7971 - val_loss: 1.7821 - val_accuracy: 0.5365\n",
      "Epoch 15/100\n",
      "196/196 [==============================] - 3s 17ms/step - loss: 0.5332 - accuracy: 0.8091 - val_loss: 1.8119 - val_accuracy: 0.5391\n",
      "Epoch 16/100\n",
      "196/196 [==============================] - 3s 16ms/step - loss: 0.4878 - accuracy: 0.8252 - val_loss: 1.8525 - val_accuracy: 0.5387\n",
      "Epoch 17/100\n",
      "196/196 [==============================] - 3s 18ms/step - loss: 0.4343 - accuracy: 0.8444 - val_loss: 2.0459 - val_accuracy: 0.5316\n",
      "Epoch 18/100\n",
      "196/196 [==============================] - 3s 17ms/step - loss: 0.4106 - accuracy: 0.8532 - val_loss: 2.1807 - val_accuracy: 0.5340\n",
      "Epoch 19/100\n",
      "196/196 [==============================] - 3s 16ms/step - loss: 0.3804 - accuracy: 0.8658 - val_loss: 2.1676 - val_accuracy: 0.5274\n",
      "Epoch 20/100\n",
      "196/196 [==============================] - 3s 15ms/step - loss: 0.3581 - accuracy: 0.8726 - val_loss: 2.2183 - val_accuracy: 0.5245\n",
      "Epoch 21/100\n",
      "196/196 [==============================] - 3s 14ms/step - loss: 0.3219 - accuracy: 0.8854 - val_loss: 2.3537 - val_accuracy: 0.5321\n",
      "Epoch 22/100\n",
      "196/196 [==============================] - 3s 15ms/step - loss: 0.3066 - accuracy: 0.8913 - val_loss: 2.4687 - val_accuracy: 0.5338\n",
      "Epoch 23/100\n",
      "196/196 [==============================] - 3s 16ms/step - loss: 0.2733 - accuracy: 0.9029 - val_loss: 2.5429 - val_accuracy: 0.5244\n",
      "Epoch 24/100\n",
      "196/196 [==============================] - 4s 20ms/step - loss: 0.2699 - accuracy: 0.9051 - val_loss: 2.6215 - val_accuracy: 0.5298\n",
      "Epoch 25/100\n",
      "196/196 [==============================] - 3s 15ms/step - loss: 0.2502 - accuracy: 0.9132 - val_loss: 2.6927 - val_accuracy: 0.5252\n",
      "Epoch 26/100\n",
      "196/196 [==============================] - 3s 16ms/step - loss: 0.2522 - accuracy: 0.9138 - val_loss: 2.7293 - val_accuracy: 0.5287\n",
      "Epoch 27/100\n",
      "196/196 [==============================] - 3s 15ms/step - loss: 0.2376 - accuracy: 0.9165 - val_loss: 2.7699 - val_accuracy: 0.5239\n",
      "Epoch 28/100\n",
      "196/196 [==============================] - 3s 13ms/step - loss: 0.2263 - accuracy: 0.9211 - val_loss: 2.9625 - val_accuracy: 0.5277\n",
      "Epoch 29/100\n",
      "196/196 [==============================] - 3s 14ms/step - loss: 0.1993 - accuracy: 0.9308 - val_loss: 3.1046 - val_accuracy: 0.5261\n",
      "Epoch 30/100\n",
      "196/196 [==============================] - 3s 13ms/step - loss: 0.2000 - accuracy: 0.9308 - val_loss: 2.9822 - val_accuracy: 0.5284\n",
      "Epoch 31/100\n",
      "196/196 [==============================] - 3s 13ms/step - loss: 0.1981 - accuracy: 0.9324 - val_loss: 3.0354 - val_accuracy: 0.5222\n",
      "Epoch 32/100\n",
      "196/196 [==============================] - 3s 14ms/step - loss: 0.1830 - accuracy: 0.9373 - val_loss: 3.1384 - val_accuracy: 0.5334\n",
      "Epoch 33/100\n",
      "196/196 [==============================] - 3s 14ms/step - loss: 0.1906 - accuracy: 0.9357 - val_loss: 3.1562 - val_accuracy: 0.5290\n",
      "Epoch 34/100\n",
      "196/196 [==============================] - 2s 13ms/step - loss: 0.1686 - accuracy: 0.9425 - val_loss: 3.1574 - val_accuracy: 0.5283\n",
      "Epoch 35/100\n",
      "196/196 [==============================] - 2s 12ms/step - loss: 0.1826 - accuracy: 0.9384 - val_loss: 3.2157 - val_accuracy: 0.5312\n",
      "Epoch 36/100\n",
      "196/196 [==============================] - 3s 13ms/step - loss: 0.1626 - accuracy: 0.9446 - val_loss: 3.3735 - val_accuracy: 0.5322\n",
      "Epoch 37/100\n",
      "196/196 [==============================] - 3s 14ms/step - loss: 0.1596 - accuracy: 0.9461 - val_loss: 3.2932 - val_accuracy: 0.5337\n",
      "Epoch 38/100\n",
      "196/196 [==============================] - 3s 13ms/step - loss: 0.1516 - accuracy: 0.9481 - val_loss: 3.4557 - val_accuracy: 0.5267\n",
      "Epoch 39/100\n",
      "196/196 [==============================] - 3s 13ms/step - loss: 0.1621 - accuracy: 0.9456 - val_loss: 3.4120 - val_accuracy: 0.5301\n",
      "Epoch 40/100\n",
      "196/196 [==============================] - 3s 13ms/step - loss: 0.1362 - accuracy: 0.9534 - val_loss: 3.4738 - val_accuracy: 0.5292\n",
      "Epoch 41/100\n",
      "196/196 [==============================] - 3s 13ms/step - loss: 0.1438 - accuracy: 0.9518 - val_loss: 3.5418 - val_accuracy: 0.5303\n",
      "Epoch 42/100\n",
      "196/196 [==============================] - 2s 12ms/step - loss: 0.1357 - accuracy: 0.9538 - val_loss: 3.5987 - val_accuracy: 0.5285\n",
      "Epoch 43/100\n",
      "196/196 [==============================] - 2s 12ms/step - loss: 0.1649 - accuracy: 0.9437 - val_loss: 3.4880 - val_accuracy: 0.5287\n",
      "Epoch 44/100\n",
      "196/196 [==============================] - 2s 13ms/step - loss: 0.1282 - accuracy: 0.9566 - val_loss: 3.5658 - val_accuracy: 0.5226\n",
      "Epoch 45/100\n",
      "196/196 [==============================] - 3s 14ms/step - loss: 0.1248 - accuracy: 0.9586 - val_loss: 3.4925 - val_accuracy: 0.5252\n",
      "Epoch 46/100\n",
      "196/196 [==============================] - 3s 13ms/step - loss: 0.1161 - accuracy: 0.9614 - val_loss: 3.8471 - val_accuracy: 0.5295\n",
      "Epoch 47/100\n",
      "196/196 [==============================] - 3s 13ms/step - loss: 0.1388 - accuracy: 0.9543 - val_loss: 3.7680 - val_accuracy: 0.5246\n",
      "Epoch 48/100\n",
      "196/196 [==============================] - 3s 14ms/step - loss: 0.1273 - accuracy: 0.9568 - val_loss: 3.5986 - val_accuracy: 0.5305\n",
      "Epoch 49/100\n",
      "196/196 [==============================] - 3s 13ms/step - loss: 0.1049 - accuracy: 0.9649 - val_loss: 3.8125 - val_accuracy: 0.5216\n",
      "Epoch 50/100\n",
      "196/196 [==============================] - 3s 14ms/step - loss: 0.1251 - accuracy: 0.9584 - val_loss: 3.7761 - val_accuracy: 0.5181\n",
      "Epoch 51/100\n",
      "196/196 [==============================] - 3s 14ms/step - loss: 0.1211 - accuracy: 0.9594 - val_loss: 3.9236 - val_accuracy: 0.5232\n",
      "Epoch 52/100\n",
      "196/196 [==============================] - 3s 14ms/step - loss: 0.1165 - accuracy: 0.9610 - val_loss: 3.6677 - val_accuracy: 0.5272\n",
      "Epoch 53/100\n",
      "196/196 [==============================] - 3s 14ms/step - loss: 0.1233 - accuracy: 0.9595 - val_loss: 3.5354 - val_accuracy: 0.5242\n",
      "Epoch 54/100\n",
      "196/196 [==============================] - 2s 12ms/step - loss: 0.1097 - accuracy: 0.9641 - val_loss: 3.7576 - val_accuracy: 0.5235\n",
      "Epoch 55/100\n",
      "196/196 [==============================] - 2s 12ms/step - loss: 0.1002 - accuracy: 0.9668 - val_loss: 4.0901 - val_accuracy: 0.5187\n",
      "Epoch 56/100\n",
      "196/196 [==============================] - 3s 14ms/step - loss: 0.1141 - accuracy: 0.9617 - val_loss: 3.9931 - val_accuracy: 0.5272\n",
      "Epoch 57/100\n"
     ]
    },
    {
     "name": "stdout",
     "output_type": "stream",
     "text": [
      "196/196 [==============================] - 3s 13ms/step - loss: 0.1167 - accuracy: 0.9621 - val_loss: 3.8539 - val_accuracy: 0.5232\n",
      "Epoch 58/100\n",
      "196/196 [==============================] - 3s 13ms/step - loss: 0.0965 - accuracy: 0.9683 - val_loss: 3.9780 - val_accuracy: 0.5279\n",
      "Epoch 59/100\n",
      "196/196 [==============================] - 3s 15ms/step - loss: 0.0945 - accuracy: 0.9686 - val_loss: 3.8759 - val_accuracy: 0.5207\n",
      "Epoch 60/100\n",
      "196/196 [==============================] - 3s 15ms/step - loss: 0.0954 - accuracy: 0.9682 - val_loss: 4.0175 - val_accuracy: 0.5328\n",
      "Epoch 61/100\n",
      "196/196 [==============================] - 3s 14ms/step - loss: 0.0936 - accuracy: 0.9698 - val_loss: 4.0183 - val_accuracy: 0.5212\n",
      "Epoch 62/100\n",
      "196/196 [==============================] - 3s 13ms/step - loss: 0.1110 - accuracy: 0.9642 - val_loss: 3.9870 - val_accuracy: 0.5273\n",
      "Epoch 63/100\n",
      "196/196 [==============================] - 2s 12ms/step - loss: 0.1067 - accuracy: 0.9654 - val_loss: 3.7658 - val_accuracy: 0.5298\n",
      "Epoch 64/100\n",
      "196/196 [==============================] - 2s 13ms/step - loss: 0.0966 - accuracy: 0.9685 - val_loss: 3.9781 - val_accuracy: 0.5305\n",
      "Epoch 65/100\n",
      "196/196 [==============================] - 2s 12ms/step - loss: 0.0862 - accuracy: 0.9709 - val_loss: 4.1249 - val_accuracy: 0.5292\n",
      "Epoch 66/100\n",
      "196/196 [==============================] - 2s 13ms/step - loss: 0.1049 - accuracy: 0.9645 - val_loss: 4.1478 - val_accuracy: 0.5236\n",
      "Epoch 67/100\n",
      "196/196 [==============================] - 2s 13ms/step - loss: 0.1104 - accuracy: 0.9639 - val_loss: 4.0416 - val_accuracy: 0.5327\n",
      "Epoch 68/100\n",
      "196/196 [==============================] - 3s 13ms/step - loss: 0.0806 - accuracy: 0.9739 - val_loss: 4.1598 - val_accuracy: 0.5225\n",
      "Epoch 69/100\n",
      "196/196 [==============================] - 3s 14ms/step - loss: 0.0901 - accuracy: 0.9708 - val_loss: 4.1109 - val_accuracy: 0.5272\n",
      "Epoch 70/100\n",
      "196/196 [==============================] - 3s 13ms/step - loss: 0.0878 - accuracy: 0.9715 - val_loss: 4.2704 - val_accuracy: 0.5229\n",
      "Epoch 71/100\n",
      "196/196 [==============================] - 3s 13ms/step - loss: 0.0779 - accuracy: 0.9746 - val_loss: 4.2876 - val_accuracy: 0.5226\n",
      "Epoch 72/100\n",
      "196/196 [==============================] - 3s 13ms/step - loss: 0.0985 - accuracy: 0.9675 - val_loss: 4.1700 - val_accuracy: 0.5284\n",
      "Epoch 73/100\n",
      "196/196 [==============================] - 3s 13ms/step - loss: 0.0831 - accuracy: 0.9731 - val_loss: 4.2893 - val_accuracy: 0.5209\n",
      "Epoch 74/100\n",
      "196/196 [==============================] - 2s 13ms/step - loss: 0.1064 - accuracy: 0.9656 - val_loss: 3.9466 - val_accuracy: 0.5287\n",
      "Epoch 75/100\n",
      "196/196 [==============================] - 2s 13ms/step - loss: 0.0677 - accuracy: 0.9778 - val_loss: 4.4140 - val_accuracy: 0.5268\n",
      "Epoch 76/100\n",
      "196/196 [==============================] - 2s 13ms/step - loss: 0.0795 - accuracy: 0.9738 - val_loss: 4.2288 - val_accuracy: 0.5238\n",
      "Epoch 77/100\n",
      "196/196 [==============================] - 3s 13ms/step - loss: 0.0812 - accuracy: 0.9735 - val_loss: 4.3528 - val_accuracy: 0.5224\n",
      "Epoch 78/100\n",
      "196/196 [==============================] - 3s 13ms/step - loss: 0.0749 - accuracy: 0.9754 - val_loss: 4.3243 - val_accuracy: 0.5285\n",
      "Epoch 79/100\n",
      "196/196 [==============================] - 2s 13ms/step - loss: 0.0819 - accuracy: 0.9734 - val_loss: 4.2886 - val_accuracy: 0.5291\n",
      "Epoch 80/100\n",
      "196/196 [==============================] - 3s 14ms/step - loss: 0.0879 - accuracy: 0.9714 - val_loss: 4.3259 - val_accuracy: 0.5263\n",
      "Epoch 81/100\n",
      "196/196 [==============================] - 3s 13ms/step - loss: 0.0935 - accuracy: 0.9698 - val_loss: 4.0619 - val_accuracy: 0.5222\n",
      "Epoch 82/100\n",
      "196/196 [==============================] - 2s 12ms/step - loss: 0.0721 - accuracy: 0.9766 - val_loss: 4.3106 - val_accuracy: 0.5249\n",
      "Epoch 83/100\n",
      "196/196 [==============================] - 2s 12ms/step - loss: 0.0751 - accuracy: 0.9758 - val_loss: 4.3093 - val_accuracy: 0.5249\n",
      "Epoch 84/100\n",
      "196/196 [==============================] - 2s 12ms/step - loss: 0.0838 - accuracy: 0.9732 - val_loss: 4.2638 - val_accuracy: 0.5267\n",
      "Epoch 85/100\n",
      "196/196 [==============================] - 2s 12ms/step - loss: 0.0954 - accuracy: 0.9690 - val_loss: 4.0621 - val_accuracy: 0.5312\n",
      "Epoch 86/100\n",
      "196/196 [==============================] - 2s 12ms/step - loss: 0.0666 - accuracy: 0.9779 - val_loss: 4.2248 - val_accuracy: 0.5328\n",
      "Epoch 87/100\n",
      "196/196 [==============================] - 2s 12ms/step - loss: 0.0645 - accuracy: 0.9795 - val_loss: 4.4348 - val_accuracy: 0.5310\n",
      "Epoch 88/100\n",
      "196/196 [==============================] - 2s 12ms/step - loss: 0.0770 - accuracy: 0.9754 - val_loss: 4.1680 - val_accuracy: 0.5296\n",
      "Epoch 89/100\n",
      "196/196 [==============================] - 2s 12ms/step - loss: 0.0635 - accuracy: 0.9794 - val_loss: 4.7293 - val_accuracy: 0.5203\n",
      "Epoch 90/100\n",
      "196/196 [==============================] - 2s 12ms/step - loss: 0.0739 - accuracy: 0.9766 - val_loss: 4.2993 - val_accuracy: 0.5271\n",
      "Epoch 91/100\n",
      "196/196 [==============================] - 2s 12ms/step - loss: 0.0737 - accuracy: 0.9767 - val_loss: 4.2844 - val_accuracy: 0.5234\n",
      "Epoch 92/100\n",
      "196/196 [==============================] - 2s 12ms/step - loss: 0.0654 - accuracy: 0.9794 - val_loss: 4.3016 - val_accuracy: 0.5174\n",
      "Epoch 93/100\n",
      "196/196 [==============================] - 2s 12ms/step - loss: 0.0874 - accuracy: 0.9725 - val_loss: 4.3047 - val_accuracy: 0.5244\n",
      "Epoch 94/100\n",
      "196/196 [==============================] - 2s 12ms/step - loss: 0.0824 - accuracy: 0.9735 - val_loss: 4.0935 - val_accuracy: 0.5291\n",
      "Epoch 95/100\n",
      "196/196 [==============================] - 2s 12ms/step - loss: 0.0613 - accuracy: 0.9795 - val_loss: 4.5566 - val_accuracy: 0.5269\n",
      "Epoch 96/100\n",
      "196/196 [==============================] - 2s 12ms/step - loss: 0.0734 - accuracy: 0.9767 - val_loss: 4.3345 - val_accuracy: 0.5294\n",
      "Epoch 97/100\n",
      "196/196 [==============================] - 2s 12ms/step - loss: 0.0643 - accuracy: 0.9796 - val_loss: 4.3916 - val_accuracy: 0.5235\n",
      "Epoch 98/100\n",
      "196/196 [==============================] - 2s 12ms/step - loss: 0.0777 - accuracy: 0.9748 - val_loss: 4.3175 - val_accuracy: 0.5200\n",
      "Epoch 99/100\n",
      "196/196 [==============================] - 2s 12ms/step - loss: 0.0681 - accuracy: 0.9783 - val_loss: 4.4002 - val_accuracy: 0.5319\n",
      "Epoch 100/100\n",
      "196/196 [==============================] - 2s 12ms/step - loss: 0.0534 - accuracy: 0.9836 - val_loss: 4.4440 - val_accuracy: 0.5342\n"
     ]
    },
    {
     "data": {
      "text/plain": [
       "<tensorflow.python.keras.callbacks.History at 0x2b3f817d940>"
      ]
     },
     "execution_count": 9,
     "metadata": {},
     "output_type": "execute_result"
    }
   ],
   "source": [
    "model.fit(x_train, y_train, \n",
    "          epochs=EPOCHS, \n",
    "          batch_size=BATCH_SIZE, \n",
    "          validation_data=(x_test, y_test), \n",
    "          shuffle=True)"
   ]
  },
  {
   "cell_type": "code",
   "execution_count": 10,
   "metadata": {},
   "outputs": [
    {
     "data": {
      "image/png": "[encoded data removed]",
      "text/plain": [
       "<Figure size 432x288 with 1 Axes>"
      ]
     },
     "metadata": {
      "needs_background": "light"
     },
     "output_type": "display_data"
    },
    {
     "data": {
      "image/png": "[encoded data removed]",
      "text/plain": [
       "<Figure size 432x288 with 1 Axes>"
      ]
     },
     "metadata": {
      "needs_background": "light"
     },
     "output_type": "display_data"
    }
   ],
   "source": [
    "import matplotlib.pyplot as plt\n",
    "\n",
    "\n",
    "train_loss = model.history.history[\"loss\"]\n",
    "valid_loss = model.history.history[\"val_loss\"]\n",
    "\n",
    "train_acc = model.history.history[\"accuracy\"]\n",
    "valid_acc = model.history.history[\"val_accuracy\"]\n",
    "\n",
    "plt.plot(range(len(train_loss)), train_loss, label=\"train loss\")\n",
    "plt.plot(range(len(valid_loss)), valid_loss, label=\"valid loss\")\n",
    "plt.legend()\n",
    "plt.title(\"Loss\")\n",
    "plt.show()\n",
    "\n",
    "plt.plot(range(len(train_acc)), train_acc, label=\"train accuracy\")\n",
    "plt.plot(range(len(valid_acc)), valid_acc, label=\"valid accuracy\")\n",
    "plt.legend()\n",
    "plt.title(\"Accuracy\")\n",
    "plt.show()"
   ]
  }
 ],
 "metadata": {
  "kernelspec": {
   "display_name": "Python 3",
   "language": "python",
   "name": "python3"
  },
  "language_info": {
   "codemirror_mode": {
    "name": "ipython",
    "version": 3
   },
   "file_extension": ".py",
   "mimetype": "text/x-python",
   "name": "python",
   "nbconvert_exporter": "python",
   "pygments_lexer": "ipython3",
   "version": "3.7.3"
  }
 },
 "nbformat": 4,
 "nbformat_minor": 2
}
