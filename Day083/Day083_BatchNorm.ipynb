{
 "cells": [
  {
   "cell_type": "markdown",
   "metadata": {},
   "source": [
    "## 範例重點\n",
    "* 學習如何在 keras 中加入 BatchNorm\n",
    "* 知道有無 BN 對訓練的影響\n",
    "* 比較 BN 在不同 batch size 下的效果"
   ]
  },
  {
   "cell_type": "code",
   "execution_count": 1,
   "metadata": {},
   "outputs": [],
   "source": [
    "import os\n",
    "from tensorflow import keras\n",
    "\n",
    "# 本範例不需使用 GPU, 將 GPU 設定為 \"無\"\n",
    "os.environ[\"CUDA_VISIBLE_DEVICES\"] = \"\""
   ]
  },
  {
   "cell_type": "code",
   "execution_count": 2,
   "metadata": {},
   "outputs": [],
   "source": [
    "train, test = keras.datasets.cifar10.load_data()"
   ]
  },
  {
   "cell_type": "code",
   "execution_count": 3,
   "metadata": {},
   "outputs": [],
   "source": [
    "## 資料前處理\n",
    "def preproc_x(x, flatten=True):\n",
    "    x = x / 255.\n",
    "    if flatten:\n",
    "        x = x.reshape((len(x), -1))\n",
    "    return x\n",
    "\n",
    "def preproc_y(y, num_classes=10):\n",
    "    if y.shape[-1] == 1:\n",
    "        y = keras.utils.to_categorical(y, num_classes)\n",
    "    return y    "
   ]
  },
  {
   "cell_type": "code",
   "execution_count": 4,
   "metadata": {},
   "outputs": [],
   "source": [
    "x_train, y_train = train\n",
    "x_test, y_test = test\n",
    "\n",
    "# 資料前處理 - X 標準化\n",
    "x_train = preproc_x(x_train)\n",
    "x_test = preproc_x(x_test)\n",
    "\n",
    "# 資料前處理 -Y 轉成 onehot\n",
    "y_train = preproc_y(y_train)\n",
    "y_test = preproc_y(y_test)"
   ]
  },
  {
   "cell_type": "code",
   "execution_count": 5,
   "metadata": {},
   "outputs": [],
   "source": [
    "from keras.layers import BatchNormalization\n",
    "\n",
    "\"\"\"\n",
    "建立神經網路，並加入 BN layer\n",
    "\"\"\"\n",
    "def build_mlp(input_shape, output_units=10, num_neurons=[512, 256, 128]):\n",
    "    input_layer = keras.layers.Input(input_shape)\n",
    "    \n",
    "    for i, n_units in enumerate(num_neurons):\n",
    "        if i == 0:\n",
    "            x = keras.layers.Dense(units=n_units, \n",
    "                                   activation=\"relu\", \n",
    "                                   name=\"hidden_layer\"+str(i+1))(input_layer)\n",
    "            x = BatchNormalization(axis=1)(x)\n",
    "        else:\n",
    "            x = keras.layers.Dense(units=n_units, \n",
    "                                   activation=\"relu\", \n",
    "                                   name=\"hidden_layer\"+str(i+1))(x)\n",
    "            x = BatchNormalization(axis=1)(x)\n",
    "    \n",
    "    out = keras.layers.Dense(units=output_units, activation=\"softmax\", name=\"output\")(x)\n",
    "    \n",
    "    model = keras.models.Model(inputs=[input_layer], outputs=[out])\n",
    "    return model"
   ]
  },
  {
   "cell_type": "code",
   "execution_count": 6,
   "metadata": {},
   "outputs": [],
   "source": [
    "## 超參數設定\n",
    "LEARNING_RATE = 1e-3\n",
    "EPOCHS = 50\n",
    "BATCH_SIZE = 1024\n",
    "MOMENTUM = 0.95"
   ]
  },
  {
   "cell_type": "code",
   "execution_count": 7,
   "metadata": {
    "scrolled": true
   },
   "outputs": [
    {
     "name": "stdout",
     "output_type": "stream",
     "text": [
      "Model: \"model\"\n",
      "_________________________________________________________________\n",
      "Layer (type)                 Output Shape              Param #   \n",
      "=================================================================\n",
      "input_1 (InputLayer)         [(None, 3072)]            0         \n",
      "_________________________________________________________________\n",
      "hidden_layer1 (Dense)        (None, 512)               1573376   \n",
      "_________________________________________________________________\n",
      "tf.math.multiply (TFOpLambda (None, 512)               0         \n",
      "_________________________________________________________________\n",
      "tf.__operators__.add (TFOpLa (None, 512)               0         \n",
      "_________________________________________________________________\n",
      "hidden_layer2 (Dense)        (None, 256)               131328    \n",
      "_________________________________________________________________\n",
      "tf.math.multiply_1 (TFOpLamb (None, 256)               0         \n",
      "_________________________________________________________________\n",
      "tf.__operators__.add_1 (TFOp (None, 256)               0         \n",
      "_________________________________________________________________\n",
      "hidden_layer3 (Dense)        (None, 128)               32896     \n",
      "_________________________________________________________________\n",
      "tf.math.multiply_2 (TFOpLamb (None, 128)               0         \n",
      "_________________________________________________________________\n",
      "tf.__operators__.add_2 (TFOp (None, 128)               0         \n",
      "_________________________________________________________________\n",
      "output (Dense)               (None, 10)                1290      \n",
      "=================================================================\n",
      "Total params: 1,738,890\n",
      "Trainable params: 1,738,890\n",
      "Non-trainable params: 0\n",
      "_________________________________________________________________\n"
     ]
    },
    {
     "name": "stderr",
     "output_type": "stream",
     "text": [
      "C:\\Users\\loe_lin\\AppData\\Roaming\\Python\\Python37\\site-packages\\tensorflow\\python\\keras\\optimizer_v2\\optimizer_v2.py:375: UserWarning: The `lr` argument is deprecated, use `learning_rate` instead.\n",
      "  \"The `lr` argument is deprecated, use `learning_rate` instead.\")\n"
     ]
    },
    {
     "name": "stdout",
     "output_type": "stream",
     "text": [
      "Epoch 1/50\n",
      "49/49 [==============================] - 2s 35ms/step - loss: 2.2348 - accuracy: 0.1857 - val_loss: 2.1393 - val_accuracy: 0.2515\n",
      "Epoch 2/50\n",
      "49/49 [==============================] - 2s 31ms/step - loss: 2.0581 - accuracy: 0.2706 - val_loss: 1.9892 - val_accuracy: 0.2990\n",
      "Epoch 3/50\n",
      "49/49 [==============================] - 2s 33ms/step - loss: 1.9459 - accuracy: 0.3139 - val_loss: 1.9124 - val_accuracy: 0.3199\n",
      "Epoch 4/50\n",
      "49/49 [==============================] - 2s 33ms/step - loss: 1.8839 - accuracy: 0.3389 - val_loss: 1.8610 - val_accuracy: 0.3462\n",
      "Epoch 5/50\n",
      "49/49 [==============================] - 2s 33ms/step - loss: 1.8397 - accuracy: 0.3574 - val_loss: 1.8240 - val_accuracy: 0.3623\n",
      "Epoch 6/50\n",
      "49/49 [==============================] - 2s 34ms/step - loss: 1.8054 - accuracy: 0.3693 - val_loss: 1.7942 - val_accuracy: 0.3724\n",
      "Epoch 7/50\n",
      "49/49 [==============================] - 2s 33ms/step - loss: 1.7782 - accuracy: 0.3776 - val_loss: 1.7700 - val_accuracy: 0.3781\n",
      "Epoch 8/50\n",
      "49/49 [==============================] - 2s 33ms/step - loss: 1.7546 - accuracy: 0.3871 - val_loss: 1.7483 - val_accuracy: 0.3876\n",
      "Epoch 9/50\n",
      "49/49 [==============================] - 2s 35ms/step - loss: 1.7344 - accuracy: 0.3948 - val_loss: 1.7293 - val_accuracy: 0.3959\n",
      "Epoch 10/50\n",
      "49/49 [==============================] - 2s 38ms/step - loss: 1.7158 - accuracy: 0.4016 - val_loss: 1.7118 - val_accuracy: 0.4038\n",
      "Epoch 11/50\n",
      "49/49 [==============================] - 2s 37ms/step - loss: 1.6995 - accuracy: 0.4069 - val_loss: 1.6964 - val_accuracy: 0.4086\n",
      "Epoch 12/50\n",
      "49/49 [==============================] - 2s 34ms/step - loss: 1.6846 - accuracy: 0.4104 - val_loss: 1.6848 - val_accuracy: 0.4139\n",
      "Epoch 13/50\n",
      "49/49 [==============================] - 2s 31ms/step - loss: 1.6701 - accuracy: 0.4160 - val_loss: 1.6728 - val_accuracy: 0.4179\n",
      "Epoch 14/50\n",
      "49/49 [==============================] - 2s 31ms/step - loss: 1.6571 - accuracy: 0.4218 - val_loss: 1.6586 - val_accuracy: 0.4193\n",
      "Epoch 15/50\n",
      "49/49 [==============================] - 2s 38ms/step - loss: 1.6430 - accuracy: 0.4270 - val_loss: 1.6460 - val_accuracy: 0.4246\n",
      "Epoch 16/50\n",
      "49/49 [==============================] - 2s 36ms/step - loss: 1.6315 - accuracy: 0.4313 - val_loss: 1.6358 - val_accuracy: 0.4282\n",
      "Epoch 17/50\n",
      "49/49 [==============================] - 2s 35ms/step - loss: 1.6195 - accuracy: 0.4359 - val_loss: 1.6239 - val_accuracy: 0.4319\n",
      "Epoch 18/50\n",
      "49/49 [==============================] - 2s 39ms/step - loss: 1.6083 - accuracy: 0.4395 - val_loss: 1.6163 - val_accuracy: 0.4374\n",
      "Epoch 19/50\n",
      "49/49 [==============================] - 2s 39ms/step - loss: 1.5971 - accuracy: 0.4441 - val_loss: 1.6060 - val_accuracy: 0.4340\n",
      "Epoch 20/50\n",
      "49/49 [==============================] - 2s 39ms/step - loss: 1.5859 - accuracy: 0.4474 - val_loss: 1.6003 - val_accuracy: 0.4373\n",
      "Epoch 21/50\n",
      "49/49 [==============================] - 2s 36ms/step - loss: 1.5758 - accuracy: 0.4511 - val_loss: 1.5873 - val_accuracy: 0.4421\n",
      "Epoch 22/50\n",
      "49/49 [==============================] - 2s 34ms/step - loss: 1.5660 - accuracy: 0.4549 - val_loss: 1.5786 - val_accuracy: 0.4474\n",
      "Epoch 23/50\n",
      "49/49 [==============================] - 2s 39ms/step - loss: 1.5560 - accuracy: 0.4591 - val_loss: 1.5707 - val_accuracy: 0.4491\n",
      "Epoch 24/50\n",
      "49/49 [==============================] - 2s 42ms/step - loss: 1.5467 - accuracy: 0.4622 - val_loss: 1.5644 - val_accuracy: 0.4527\n",
      "Epoch 25/50\n",
      "49/49 [==============================] - 2s 45ms/step - loss: 1.5380 - accuracy: 0.4655 - val_loss: 1.5547 - val_accuracy: 0.4487\n",
      "Epoch 26/50\n",
      "49/49 [==============================] - 2s 39ms/step - loss: 1.5296 - accuracy: 0.4667 - val_loss: 1.5502 - val_accuracy: 0.4536\n",
      "Epoch 27/50\n",
      "49/49 [==============================] - 2s 37ms/step - loss: 1.5203 - accuracy: 0.4704 - val_loss: 1.5425 - val_accuracy: 0.4581\n",
      "Epoch 28/50\n",
      "49/49 [==============================] - 2s 38ms/step - loss: 1.5123 - accuracy: 0.4742 - val_loss: 1.5388 - val_accuracy: 0.4561ss: 1.5153 - accura\n",
      "Epoch 29/50\n",
      "49/49 [==============================] - 2s 37ms/step - loss: 1.5036 - accuracy: 0.4758 - val_loss: 1.5316 - val_accuracy: 0.4586\n",
      "Epoch 30/50\n",
      "49/49 [==============================] - 2s 37ms/step - loss: 1.4963 - accuracy: 0.4781 - val_loss: 1.5246 - val_accuracy: 0.4637\n",
      "Epoch 31/50\n",
      "49/49 [==============================] - 2s 35ms/step - loss: 1.4882 - accuracy: 0.4821 - val_loss: 1.5208 - val_accuracy: 0.4608\n",
      "Epoch 32/50\n",
      "49/49 [==============================] - 2s 35ms/step - loss: 1.4804 - accuracy: 0.4843 - val_loss: 1.5103 - val_accuracy: 0.4669\n",
      "Epoch 33/50\n",
      "49/49 [==============================] - 2s 35ms/step - loss: 1.4733 - accuracy: 0.4861 - val_loss: 1.5068 - val_accuracy: 0.4674\n",
      "Epoch 34/50\n",
      "49/49 [==============================] - 2s 36ms/step - loss: 1.4655 - accuracy: 0.4893 - val_loss: 1.5006 - val_accuracy: 0.4694\n",
      "Epoch 35/50\n",
      "49/49 [==============================] - 2s 35ms/step - loss: 1.4582 - accuracy: 0.4926 - val_loss: 1.4951 - val_accuracy: 0.4722\n",
      "Epoch 36/50\n",
      "49/49 [==============================] - 2s 35ms/step - loss: 1.4511 - accuracy: 0.4948 - val_loss: 1.4945 - val_accuracy: 0.4680\n",
      "Epoch 37/50\n",
      "49/49 [==============================] - 2s 33ms/step - loss: 1.4434 - accuracy: 0.4975 - val_loss: 1.4837 - val_accuracy: 0.4760\n",
      "Epoch 38/50\n",
      "49/49 [==============================] - 2s 35ms/step - loss: 1.4364 - accuracy: 0.4989 - val_loss: 1.4815 - val_accuracy: 0.4745\n",
      "Epoch 39/50\n",
      "49/49 [==============================] - 2s 35ms/step - loss: 1.4291 - accuracy: 0.5022 - val_loss: 1.4734 - val_accuracy: 0.4767\n",
      "Epoch 40/50\n",
      "49/49 [==============================] - 2s 34ms/step - loss: 1.4230 - accuracy: 0.5042 - val_loss: 1.4715 - val_accuracy: 0.4807\n",
      "Epoch 41/50\n",
      "49/49 [==============================] - 2s 35ms/step - loss: 1.4150 - accuracy: 0.5076 - val_loss: 1.4642 - val_accuracy: 0.4838\n",
      "Epoch 42/50\n",
      "49/49 [==============================] - 2s 35ms/step - loss: 1.4076 - accuracy: 0.5094 - val_loss: 1.4617 - val_accuracy: 0.4834\n",
      "Epoch 43/50\n",
      "49/49 [==============================] - 2s 37ms/step - loss: 1.4019 - accuracy: 0.5111 - val_loss: 1.4594 - val_accuracy: 0.4807\n",
      "Epoch 44/50\n",
      "49/49 [==============================] - 2s 40ms/step - loss: 1.3950 - accuracy: 0.5144 - val_loss: 1.4540 - val_accuracy: 0.4852\n",
      "Epoch 45/50\n",
      "49/49 [==============================] - 2s 39ms/step - loss: 1.3878 - accuracy: 0.5161 - val_loss: 1.4467 - val_accuracy: 0.4899\n",
      "Epoch 46/50\n",
      "49/49 [==============================] - 2s 36ms/step - loss: 1.3809 - accuracy: 0.5186 - val_loss: 1.4470 - val_accuracy: 0.4875\n",
      "Epoch 47/50\n",
      "49/49 [==============================] - 2s 34ms/step - loss: 1.3749 - accuracy: 0.5217 - val_loss: 1.4389 - val_accuracy: 0.4925\n",
      "Epoch 48/50\n",
      "49/49 [==============================] - 2s 36ms/step - loss: 1.3677 - accuracy: 0.5224 - val_loss: 1.4356 - val_accuracy: 0.4936\n",
      "Epoch 49/50\n",
      "49/49 [==============================] - 2s 35ms/step - loss: 1.3616 - accuracy: 0.5260 - val_loss: 1.4307 - val_accuracy: 0.4938\n",
      "Epoch 50/50\n",
      "49/49 [==============================] - 2s 35ms/step - loss: 1.3555 - accuracy: 0.5270 - val_loss: 1.4245 - val_accuracy: 0.4960\n"
     ]
    }
   ],
   "source": [
    "model = build_mlp(input_shape=x_train.shape[1:])\n",
    "model.summary()\n",
    "optimizer = keras.optimizers.SGD(lr=LEARNING_RATE, nesterov=True, momentum=MOMENTUM)\n",
    "model.compile(loss=\"categorical_crossentropy\", metrics=[\"accuracy\"], optimizer=optimizer)\n",
    "\n",
    "model.fit(x_train, y_train, \n",
    "          epochs=EPOCHS, \n",
    "          batch_size=BATCH_SIZE, \n",
    "          validation_data=(x_test, y_test), \n",
    "          shuffle=True)\n",
    "\n",
    "# Collect results\n",
    "train_loss = model.history.history[\"loss\"]\n",
    "valid_loss = model.history.history[\"val_loss\"]\n",
    "train_acc = model.history.history[\"accuracy\"]\n",
    "valid_acc = model.history.history[\"val_accuracy\"]"
   ]
  },
  {
   "cell_type": "code",
   "execution_count": 8,
   "metadata": {},
   "outputs": [
    {
     "data": {
      "image/png": "[encoded data removed]",
      "text/plain": [
       "<Figure size 432x288 with 1 Axes>"
      ]
     },
     "metadata": {
      "needs_background": "light"
     },
     "output_type": "display_data"
    },
    {
     "data": {
      "image/png": "[encoded data removed]",
      "text/plain": [
       "<Figure size 432x288 with 1 Axes>"
      ]
     },
     "metadata": {
      "needs_background": "light"
     },
     "output_type": "display_data"
    }
   ],
   "source": [
    "import matplotlib.pyplot as plt\n",
    "%matplotlib inline\n",
    "\n",
    "plt.plot(range(len(train_loss)), train_loss, label=\"train loss\")\n",
    "plt.plot(range(len(valid_loss)), valid_loss, label=\"valid loss\")\n",
    "plt.legend()\n",
    "plt.title(\"Loss\")\n",
    "plt.show()\n",
    "\n",
    "plt.plot(range(len(train_acc)), train_acc, label=\"train accuracy\")\n",
    "plt.plot(range(len(valid_acc)), valid_acc, label=\"valid accuracy\")\n",
    "plt.legend()\n",
    "plt.title(\"Accuracy\")\n",
    "plt.show()"
   ]
  },
  {
   "cell_type": "markdown",
   "metadata": {},
   "source": [
    "## Work\n",
    "1. 試比較有 BN 在 Batch_size = 2, 16, 32, 128, 256 下的差異\n",
    "2. 請嘗試將 BN 放在 Activation 之前，並比較訓練結果\n",
    "3. 請於 BN 放在 Input Layer 後，並比較結果"
   ]
  }
 ],
 "metadata": {
  "kernelspec": {
   "display_name": "Python 3",
   "language": "python",
   "name": "python3"
  },
  "language_info": {
   "codemirror_mode": {
    "name": "ipython",
    "version": 3
   },
   "file_extension": ".py",
   "mimetype": "text/x-python",
   "name": "python",
   "nbconvert_exporter": "python",
   "pygments_lexer": "ipython3",
   "version": "3.7.3"
  }
 },
 "nbformat": 4,
 "nbformat_minor": 2
}
