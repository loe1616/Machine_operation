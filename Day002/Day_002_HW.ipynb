{
 "cells": [
  {
   "cell_type": "markdown",
   "metadata": {},
   "source": [
    "## [作業目標]\n",
    "了解機器學習適合應用的領域與範疇。"
   ]
  },
  {
   "cell_type": "markdown",
   "metadata": {},
   "source": [
    "## [作業重點]\n",
    "透過瞭解機器學習的運作方式，找出非常適用機器學習應用的領域及其原因"
   ]
  },
  {
   "cell_type": "markdown",
   "metadata": {},
   "source": [
    "## 作業\n",
    "請找出一個你認為機器學習可以發光發熱的領域並闡述原因? "
   ]
  },
  {
   "cell_type": "code",
   "execution_count": null,
   "metadata": {},
   "outputs": [],
   "source": [
    "   股票，股票在正常情況會呈現均值回歸，且有許多金融指標能夠驗證股票的走勢，我對於股票在機器學習上有兩種看法，\n",
    "    一種是利用股票的走勢特性作為特徵找到未來可能的高低點，但這種方式不能確保一定能成功，畢竟股票走勢是因為人\n",
    "    為的買賣導致的波動，也可能受到天災人為的影響EX:疫情，美國大選等等，改變股票的走勢，我認為目前機器學習是\n",
    "    不能有效地完成，另一種是用股票的基本面運用機器學習來完成選股，找到近年來收益較好的股票，以及未來成長性較\n",
    "    好的個股，並配合上面的方法找到適合的低點作為進場時間，以利報酬能夠有效的提升\n",
    "    \n"
   ]
  }
 ],
 "metadata": {
  "kernelspec": {
   "display_name": "Python 3",
   "language": "python",
   "name": "python3"
  },
  "language_info": {
   "codemirror_mode": {
    "name": "ipython",
    "version": 3
   },
   "file_extension": ".py",
   "mimetype": "text/x-python",
   "name": "python",
   "nbconvert_exporter": "python",
   "pygments_lexer": "ipython3",
   "version": "3.7.3"
  }
 },
 "nbformat": 4,
 "nbformat_minor": 2
}
