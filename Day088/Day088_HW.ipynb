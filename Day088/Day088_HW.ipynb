{
 "cells": [
  {
   "cell_type": "markdown",
   "metadata": {},
   "source": [
    "## Work\n",
    "1. 請嘗試寫一個 callback 用來記錄各類別在訓練過程中，對驗證集的 True Positive 與 True Negative"
   ]
  },
  {
   "cell_type": "code",
   "execution_count": 1,
   "metadata": {},
   "outputs": [],
   "source": [
    "import os\n",
    "from tensorflow import keras\n",
    "\n",
    "# Disable GPU\n",
    "os.environ[\"CUDA_VISIBLE_DEVICES\"] = \"\""
   ]
  },
  {
   "cell_type": "code",
   "execution_count": 2,
   "metadata": {},
   "outputs": [],
   "source": [
    "train, test = keras.datasets.cifar10.load_data()"
   ]
  },
  {
   "cell_type": "code",
   "execution_count": 3,
   "metadata": {},
   "outputs": [],
   "source": [
    "## 資料前處理\n",
    "def preproc_x(x, flatten=True):\n",
    "    x = x / 255.\n",
    "    if flatten:\n",
    "        x = x.reshape((len(x), -1))\n",
    "    return x\n",
    "\n",
    "def preproc_y(y, num_classes=10):\n",
    "    if y.shape[-1] == 1:\n",
    "        y = keras.utils.to_categorical(y, num_classes)\n",
    "    return y    "
   ]
  },
  {
   "cell_type": "code",
   "execution_count": 4,
   "metadata": {},
   "outputs": [],
   "source": [
    "x_train, y_train = train\n",
    "x_test, y_test = test\n",
    "\n",
    "# Preproc the inputs\n",
    "x_train = preproc_x(x_train)\n",
    "x_test = preproc_x(x_test)\n",
    "\n",
    "# Preprc the outputs\n",
    "y_train = preproc_y(y_train)\n",
    "y_test = preproc_y(y_test)"
   ]
  },
  {
   "cell_type": "code",
   "execution_count": 5,
   "metadata": {},
   "outputs": [],
   "source": [
    "from keras.layers import BatchNormalization\n",
    "\n",
    "def build_mlp(input_shape, output_units=10, num_neurons=[512, 256, 128]):\n",
    "    input_layer = keras.layers.Input(input_shape)\n",
    "    \n",
    "    for i, n_units in enumerate(num_neurons):\n",
    "        if i == 0:\n",
    "            x = keras.layers.Dense(units=n_units, \n",
    "                                   activation=\"relu\", \n",
    "                                   name=\"hidden_layer\"+str(i+1))(input_layer)\n",
    "            x = BatchNormalization()(x)\n",
    "        else:\n",
    "            x = keras.layers.Dense(units=n_units, \n",
    "                                   activation=\"relu\", \n",
    "                                   name=\"hidden_layer\"+str(i+1))(x)\n",
    "            x = BatchNormalization()(x)\n",
    "    \n",
    "    out = keras.layers.Dense(units=output_units, activation=\"softmax\", name=\"output\")(x)\n",
    "    \n",
    "    model = keras.models.Model(inputs=[input_layer], outputs=[out])\n",
    "    \n",
    "    return model"
   ]
  },
  {
   "cell_type": "code",
   "execution_count": 6,
   "metadata": {},
   "outputs": [],
   "source": [
    "## 超參數設定\n",
    "LEARNING_RATE = 1e-3\n",
    "EPOCHS = 25\n",
    "BATCH_SIZE = 1024\n",
    "MOMENTUM = 0.95"
   ]
  },
  {
   "cell_type": "code",
   "execution_count": 7,
   "metadata": {},
   "outputs": [],
   "source": [
    "# 載入 Callbacks\n",
    "from keras.callbacks import Callback\n",
    "\n",
    "# Record_fp_tp\n",
    "class Record_tp_tn(keras.callbacks.Callback):\n",
    "    def __init__(self, val_data=(x_test, y_test)):\n",
    "        self.validation_data = val_data\n",
    "    def on_train_begin(self, epoch, logs = {}):\n",
    "        logs = logs or {}\n",
    "        record_items = [\"val_tp\", \"val_tn\"]\n",
    "        for i in record_items:\n",
    "            try:\n",
    "                if i not in self.params['metrics']:\n",
    "                    self.params['metrics'].append(i)\n",
    "            except:\n",
    "                self.params['metrics'] = i\n",
    "    def on_epoch_end(self, epoch, logs = {}, thres=0.5):\n",
    "        logs = logs or {}\n",
    "        y_true = self.validation_data[1].argmax(axis = 1)\n",
    "        y_pred = self.model.predict(self.validation_data[0])\n",
    "        y_pred = (y_pred[:, 1] >= thres) * 1\n",
    "        \n",
    "        val_tp = sum(y_true*y_pred)\n",
    "        val_tn = sum((y_true==0) & (y_pred==0))\n",
    "        \n",
    "        logs[\"val_tp\"] = val_tp\n",
    "        logs[\"val_tn\"] = val_tn\n",
    "        \n",
    "rec_tptn = Record_tp_tn()"
   ]
  },
  {
   "cell_type": "code",
   "execution_count": 8,
   "metadata": {
    "scrolled": true
   },
   "outputs": [
    {
     "name": "stdout",
     "output_type": "stream",
     "text": [
      "Model: \"model\"\n",
      "_________________________________________________________________\n",
      "Layer (type)                 Output Shape              Param #   \n",
      "=================================================================\n",
      "input_1 (InputLayer)         [(None, 3072)]            0         \n",
      "_________________________________________________________________\n",
      "hidden_layer1 (Dense)        (None, 512)               1573376   \n",
      "_________________________________________________________________\n",
      "tf.math.multiply (TFOpLambda (None, 512)               0         \n",
      "_________________________________________________________________\n",
      "tf.__operators__.add (TFOpLa (None, 512)               0         \n",
      "_________________________________________________________________\n",
      "hidden_layer2 (Dense)        (None, 256)               131328    \n",
      "_________________________________________________________________\n",
      "tf.math.multiply_1 (TFOpLamb (None, 256)               0         \n",
      "_________________________________________________________________\n",
      "tf.__operators__.add_1 (TFOp (None, 256)               0         \n",
      "_________________________________________________________________\n",
      "hidden_layer3 (Dense)        (None, 128)               32896     \n",
      "_________________________________________________________________\n",
      "tf.math.multiply_2 (TFOpLamb (None, 128)               0         \n",
      "_________________________________________________________________\n",
      "tf.__operators__.add_2 (TFOp (None, 128)               0         \n",
      "_________________________________________________________________\n",
      "output (Dense)               (None, 10)                1290      \n",
      "=================================================================\n",
      "Total params: 1,738,890\n",
      "Trainable params: 1,738,890\n",
      "Non-trainable params: 0\n",
      "_________________________________________________________________\n"
     ]
    },
    {
     "name": "stderr",
     "output_type": "stream",
     "text": [
      "C:\\Users\\loe_lin\\AppData\\Roaming\\Python\\Python37\\site-packages\\tensorflow\\python\\keras\\optimizer_v2\\optimizer_v2.py:375: UserWarning: The `lr` argument is deprecated, use `learning_rate` instead.\n",
      "  \"The `lr` argument is deprecated, use `learning_rate` instead.\")\n"
     ]
    },
    {
     "name": "stdout",
     "output_type": "stream",
     "text": [
      "Epoch 1/25\n",
      "49/49 [==============================] - 2s 38ms/step - loss: 2.2085 - accuracy: 0.1983 - val_loss: 2.0964 - val_accuracy: 0.2601\n",
      "Epoch 2/25\n",
      "49/49 [==============================] - 2s 32ms/step - loss: 2.0237 - accuracy: 0.2833 - val_loss: 1.9665 - val_accuracy: 0.3096\n",
      "Epoch 3/25\n",
      "49/49 [==============================] - 2s 33ms/step - loss: 1.9267 - accuracy: 0.3217 - val_loss: 1.8974 - val_accuracy: 0.3339\n",
      "Epoch 4/25\n",
      "49/49 [==============================] - 2s 33ms/step - loss: 1.8691 - accuracy: 0.3457 - val_loss: 1.8518 - val_accuracy: 0.3561\n",
      "Epoch 5/25\n",
      "49/49 [==============================] - 2s 33ms/step - loss: 1.8300 - accuracy: 0.3594 - val_loss: 1.8174 - val_accuracy: 0.3664\n",
      "Epoch 6/25\n",
      "49/49 [==============================] - 2s 35ms/step - loss: 1.8001 - accuracy: 0.3700 - val_loss: 1.7906 - val_accuracy: 0.3760\n",
      "Epoch 7/25\n",
      "49/49 [==============================] - 2s 33ms/step - loss: 1.7749 - accuracy: 0.3808 - val_loss: 1.7667 - val_accuracy: 0.3841\n",
      "Epoch 8/25\n",
      "49/49 [==============================] - 2s 33ms/step - loss: 1.7524 - accuracy: 0.3874 - val_loss: 1.7459 - val_accuracy: 0.3952\n",
      "Epoch 9/25\n",
      "49/49 [==============================] - 2s 37ms/step - loss: 1.7320 - accuracy: 0.3953 - val_loss: 1.7267 - val_accuracy: 0.3994\n",
      "Epoch 10/25\n",
      "49/49 [==============================] - 2s 39ms/step - loss: 1.7138 - accuracy: 0.4017 - val_loss: 1.7092 - val_accuracy: 0.4066\n",
      "Epoch 11/25\n",
      "49/49 [==============================] - 2s 36ms/step - loss: 1.6963 - accuracy: 0.4071 - val_loss: 1.6931 - val_accuracy: 0.4113\n",
      "Epoch 12/25\n",
      "49/49 [==============================] - 2s 33ms/step - loss: 1.6803 - accuracy: 0.4131 - val_loss: 1.6770 - val_accuracy: 0.4188\n",
      "Epoch 13/25\n",
      "49/49 [==============================] - 2s 32ms/step - loss: 1.6652 - accuracy: 0.4179 - val_loss: 1.6628 - val_accuracy: 0.4222\n",
      "Epoch 14/25\n",
      "49/49 [==============================] - 2s 33ms/step - loss: 1.6509 - accuracy: 0.4239 - val_loss: 1.6510 - val_accuracy: 0.4248\n",
      "Epoch 15/25\n",
      "49/49 [==============================] - 2s 31ms/step - loss: 1.6368 - accuracy: 0.4295 - val_loss: 1.6383 - val_accuracy: 0.4275\n",
      "Epoch 16/25\n",
      "49/49 [==============================] - 2s 36ms/step - loss: 1.6236 - accuracy: 0.4338 - val_loss: 1.6248 - val_accuracy: 0.4359\n",
      "Epoch 17/25\n",
      "49/49 [==============================] - 2s 37ms/step - loss: 1.6115 - accuracy: 0.4374 - val_loss: 1.6139 - val_accuracy: 0.4399\n",
      "Epoch 18/25\n",
      "49/49 [==============================] - 2s 35ms/step - loss: 1.5992 - accuracy: 0.4416 - val_loss: 1.6026 - val_accuracy: 0.4412\n",
      "Epoch 19/25\n",
      "49/49 [==============================] - 2s 35ms/step - loss: 1.5869 - accuracy: 0.4470 - val_loss: 1.5934 - val_accuracy: 0.4426\n",
      "Epoch 20/25\n",
      "49/49 [==============================] - 2s 35ms/step - loss: 1.5758 - accuracy: 0.4506 - val_loss: 1.5857 - val_accuracy: 0.4462\n",
      "Epoch 21/25\n",
      "49/49 [==============================] - 2s 36ms/step - loss: 1.5649 - accuracy: 0.4530 - val_loss: 1.5727 - val_accuracy: 0.4502\n",
      "Epoch 22/25\n",
      "49/49 [==============================] - 2s 41ms/step - loss: 1.5546 - accuracy: 0.4586 - val_loss: 1.5661 - val_accuracy: 0.4520\n",
      "Epoch 23/25\n",
      "49/49 [==============================] - 2s 41ms/step - loss: 1.5440 - accuracy: 0.4623 - val_loss: 1.5563 - val_accuracy: 0.4567\n",
      "Epoch 24/25\n",
      "49/49 [==============================] - 2s 37ms/step - loss: 1.5340 - accuracy: 0.4655 - val_loss: 1.5484 - val_accuracy: 0.4579\n",
      "Epoch 25/25\n",
      "49/49 [==============================] - 2s 36ms/step - loss: 1.5247 - accuracy: 0.4691 - val_loss: 1.5399 - val_accuracy: 0.4615\n"
     ]
    }
   ],
   "source": [
    "model = build_mlp(input_shape=x_train.shape[1:])\n",
    "model.summary()\n",
    "optimizer = keras.optimizers.SGD(lr=LEARNING_RATE, nesterov=True, momentum=MOMENTUM)\n",
    "model.compile(loss=\"categorical_crossentropy\", metrics=[\"accuracy\"], optimizer=optimizer)\n",
    "\n",
    "model.fit(x_train, y_train, \n",
    "          epochs=EPOCHS, \n",
    "          batch_size=BATCH_SIZE, \n",
    "          validation_data=(x_test, y_test), \n",
    "          shuffle=True,\n",
    "          callbacks=[rec_tptn]\n",
    "          )\n",
    "\n",
    "\n",
    "# Collect results\n",
    "train_loss = model.history.history[\"loss\"]\n",
    "valid_loss = model.history.history[\"val_loss\"]\n",
    "train_acc = model.history.history[\"accuracy\"]\n",
    "valid_acc = model.history.history[\"val_accuracy\"]\n",
    "\n",
    "valid_tp = model.history.history['val_tp']\n",
    "valid_tn = model.history.history['val_tn']"
   ]
  },
  {
   "cell_type": "code",
   "execution_count": 9,
   "metadata": {},
   "outputs": [
    {
     "data": {
      "image/png": "[encoded data removed]",
      "text/plain": [
       "<Figure size 432x288 with 1 Axes>"
      ]
     },
     "metadata": {
      "needs_background": "light"
     },
     "output_type": "display_data"
    },
    {
     "data": {
      "image/png": "[encoded data removed]",
      "text/plain": [
       "<Figure size 432x288 with 1 Axes>"
      ]
     },
     "metadata": {
      "needs_background": "light"
     },
     "output_type": "display_data"
    },
    {
     "data": {
      "image/png": "[encoded data removed]",
      "text/plain": [
       "<Figure size 432x288 with 1 Axes>"
      ]
     },
     "metadata": {
      "needs_background": "light"
     },
     "output_type": "display_data"
    }
   ],
   "source": [
    "import matplotlib.pyplot as plt\n",
    "%matplotlib inline\n",
    "\n",
    "plt.plot(range(len(train_loss)), train_loss, label=\"train loss\")\n",
    "plt.plot(range(len(valid_loss)), valid_loss, label=\"valid loss\")\n",
    "plt.legend()\n",
    "plt.title(\"Loss\")\n",
    "plt.show()\n",
    "\n",
    "plt.plot(range(len(train_acc)), train_acc, label=\"train accuracy\")\n",
    "plt.plot(range(len(valid_acc)), valid_acc, label=\"valid accuracy\")\n",
    "plt.legend()\n",
    "plt.title(\"Accuracy\")\n",
    "plt.show()\n",
    "\n",
    "plt.plot(range(len(valid_tp)), valid_tp, label=\"valid tp\", color=\"navy\")\n",
    "plt.plot(range(len(valid_tn)), valid_tn, label=\"valid tn\", color=\"red\")\n",
    "plt.legend()\n",
    "plt.title(\"True positives and True Negatives\")\n",
    "plt.show()\n"
   ]
  }
 ],
 "metadata": {
  "kernelspec": {
   "display_name": "Python 3",
   "language": "python",
   "name": "python3"
  },
  "language_info": {
   "codemirror_mode": {
    "name": "ipython",
    "version": 3
   },
   "file_extension": ".py",
   "mimetype": "text/x-python",
   "name": "python",
   "nbconvert_exporter": "python",
   "pygments_lexer": "ipython3",
   "version": "3.7.3"
  }
 },
 "nbformat": 4,
 "nbformat_minor": 2
}
